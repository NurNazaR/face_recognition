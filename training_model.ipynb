{
 "cells": [
  {
   "cell_type": "markdown",
   "id": "086dcd9e",
   "metadata": {},
   "source": [
    "# Setup"
   ]
  },
  {
   "cell_type": "markdown",
   "id": "96da0213",
   "metadata": {},
   "source": [
    "## Install Dependencies"
   ]
  },
  {
   "cell_type": "code",
   "execution_count": 2,
   "id": "c4456369",
   "metadata": {},
   "outputs": [
    {
     "name": "stdout",
     "output_type": "stream",
     "text": [
      "Requirement already satisfied: opencv-python in /Users/nurdauletnazarbay/tensorflow/lib/python3.11/site-packages (4.8.1.78)\n",
      "Requirement already satisfied: matplotlib in /Users/nurdauletnazarbay/tensorflow/lib/python3.11/site-packages (3.8.2)\n",
      "Requirement already satisfied: numpy>=1.21.2 in /Users/nurdauletnazarbay/tensorflow/lib/python3.11/site-packages (from opencv-python) (1.26.2)\n",
      "Requirement already satisfied: contourpy>=1.0.1 in /Users/nurdauletnazarbay/tensorflow/lib/python3.11/site-packages (from matplotlib) (1.2.0)\n",
      "Requirement already satisfied: cycler>=0.10 in /Users/nurdauletnazarbay/tensorflow/lib/python3.11/site-packages (from matplotlib) (0.12.1)\n",
      "Requirement already satisfied: fonttools>=4.22.0 in /Users/nurdauletnazarbay/tensorflow/lib/python3.11/site-packages (from matplotlib) (4.45.0)\n",
      "Requirement already satisfied: kiwisolver>=1.3.1 in /Users/nurdauletnazarbay/tensorflow/lib/python3.11/site-packages (from matplotlib) (1.4.5)\n",
      "Requirement already satisfied: packaging>=20.0 in /Users/nurdauletnazarbay/tensorflow/lib/python3.11/site-packages (from matplotlib) (23.2)\n",
      "Requirement already satisfied: pillow>=8 in /Users/nurdauletnazarbay/tensorflow/lib/python3.11/site-packages (from matplotlib) (10.1.0)\n",
      "Requirement already satisfied: pyparsing>=2.3.1 in /Users/nurdauletnazarbay/tensorflow/lib/python3.11/site-packages (from matplotlib) (3.1.1)\n",
      "Requirement already satisfied: python-dateutil>=2.7 in /Users/nurdauletnazarbay/tensorflow/lib/python3.11/site-packages (from matplotlib) (2.8.2)\n",
      "Requirement already satisfied: six>=1.5 in /Users/nurdauletnazarbay/tensorflow/lib/python3.11/site-packages (from python-dateutil>=2.7->matplotlib) (1.16.0)\n",
      "\n",
      "\u001b[1m[\u001b[0m\u001b[34;49mnotice\u001b[0m\u001b[1;39;49m]\u001b[0m\u001b[39;49m A new release of pip is available: \u001b[0m\u001b[31;49m23.2.1\u001b[0m\u001b[39;49m -> \u001b[0m\u001b[32;49m23.3.1\u001b[0m\n",
      "\u001b[1m[\u001b[0m\u001b[34;49mnotice\u001b[0m\u001b[1;39;49m]\u001b[0m\u001b[39;49m To update, run: \u001b[0m\u001b[32;49mpip install --upgrade pip\u001b[0m\n"
     ]
    }
   ],
   "source": [
    "%pip install opencv-python matplotlib"
   ]
  },
  {
   "cell_type": "markdown",
   "id": "687ae5b3",
   "metadata": {},
   "source": [
    "## Import Dependencies "
   ]
  },
  {
   "cell_type": "code",
   "execution_count": 1,
   "id": "4afbed47",
   "metadata": {},
   "outputs": [],
   "source": [
    "import cv2\n",
    "import os\n",
    "import random\n",
    "import numpy as np\n",
    "import matplotlib.pyplot as plt"
   ]
  },
  {
   "cell_type": "code",
   "execution_count": 2,
   "id": "d99dbbcf",
   "metadata": {},
   "outputs": [],
   "source": [
    "# Import tensorflow dependencies - Functional API \n",
    "from tensorflow.keras.models import Model\n",
    "from tensorflow.keras.layers import Layer, Conv2D, Dense, MaxPooling2D, Input, Flatten \n",
    "import tensorflow as tf"
   ]
  },
  {
   "cell_type": "markdown",
   "id": "6fae257a",
   "metadata": {},
   "source": [
    "## Set GPU Growth"
   ]
  },
  {
   "cell_type": "code",
   "execution_count": 3,
   "id": "9a93d234",
   "metadata": {},
   "outputs": [],
   "source": [
    "# Avoid 00M errors by setting GPU Memory Consumption Growth\n",
    "gpus = tf.config.experimental.list_physical_devices('GPU')\n",
    "for gpu in gpus:\n",
    "    tf.config.experimental.set_memory_growth (gpu, True)"
   ]
  },
  {
   "cell_type": "code",
   "execution_count": 4,
   "id": "7659af22",
   "metadata": {},
   "outputs": [
    {
     "data": {
      "text/plain": [
       "PhysicalDevice(name='/physical_device:GPU:0', device_type='GPU')"
      ]
     },
     "execution_count": 4,
     "metadata": {},
     "output_type": "execute_result"
    }
   ],
   "source": [
    "gpus[0]"
   ]
  },
  {
   "cell_type": "markdown",
   "id": "7863cb7a",
   "metadata": {},
   "source": [
    "## Create folder Structure"
   ]
  },
  {
   "cell_type": "code",
   "execution_count": 1,
   "id": "d11789c8",
   "metadata": {},
   "outputs": [
    {
     "ename": "NameError",
     "evalue": "name 'os' is not defined",
     "output_type": "error",
     "traceback": [
      "\u001b[0;31m---------------------------------------------------------------------------\u001b[0m",
      "\u001b[0;31mNameError\u001b[0m                                 Traceback (most recent call last)",
      "Cell \u001b[0;32mIn[1], line 2\u001b[0m\n\u001b[1;32m      1\u001b[0m \u001b[38;5;66;03m# Setup paths\u001b[39;00m\n\u001b[0;32m----> 2\u001b[0m POS_PATH \u001b[38;5;241m=\u001b[39m \u001b[43mos\u001b[49m\u001b[38;5;241m.\u001b[39mpath\u001b[38;5;241m.\u001b[39mjoin (\u001b[38;5;124m'\u001b[39m\u001b[38;5;124mdata\u001b[39m\u001b[38;5;124m'\u001b[39m,\u001b[38;5;124m'\u001b[39m\u001b[38;5;124mpositive\u001b[39m\u001b[38;5;124m'\u001b[39m)\n\u001b[1;32m      3\u001b[0m NEG_PATH \u001b[38;5;241m=\u001b[39m os\u001b[38;5;241m.\u001b[39mpath\u001b[38;5;241m.\u001b[39mjoin(\u001b[38;5;124m'\u001b[39m\u001b[38;5;124mdata\u001b[39m\u001b[38;5;124m'\u001b[39m, \u001b[38;5;124m'\u001b[39m\u001b[38;5;124mnegative\u001b[39m\u001b[38;5;124m'\u001b[39m)\n\u001b[1;32m      4\u001b[0m ANC_PATH \u001b[38;5;241m=\u001b[39m os\u001b[38;5;241m.\u001b[39mpath\u001b[38;5;241m.\u001b[39mjoin (\u001b[38;5;124m'\u001b[39m\u001b[38;5;124mdata\u001b[39m\u001b[38;5;124m'\u001b[39m, \u001b[38;5;124m'\u001b[39m\u001b[38;5;124manchor\u001b[39m\u001b[38;5;124m'\u001b[39m)\n",
      "\u001b[0;31mNameError\u001b[0m: name 'os' is not defined"
     ]
    }
   ],
   "source": [
    "# Setup paths\n",
    "POS_PATH = os.path.join ('data','positive')\n",
    "NEG_PATH = os.path.join('data', 'negative')\n",
    "ANC_PATH = os.path.join ('data', 'anchor')"
   ]
  },
  {
   "cell_type": "code",
   "execution_count": 6,
   "id": "84caf36b",
   "metadata": {},
   "outputs": [
    {
     "ename": "FileExistsError",
     "evalue": "[Errno 17] File exists: 'data/positive'",
     "output_type": "error",
     "traceback": [
      "\u001b[0;31m---------------------------------------------------------------------------\u001b[0m",
      "\u001b[0;31mFileExistsError\u001b[0m                           Traceback (most recent call last)",
      "Cell \u001b[0;32mIn[6], line 2\u001b[0m\n\u001b[1;32m      1\u001b[0m \u001b[38;5;66;03m# Make the directories\u001b[39;00m\n\u001b[0;32m----> 2\u001b[0m \u001b[43mos\u001b[49m\u001b[38;5;241;43m.\u001b[39;49m\u001b[43mmakedirs\u001b[49m\u001b[43m(\u001b[49m\u001b[43mPOS_PATH\u001b[49m\u001b[43m)\u001b[49m\n\u001b[1;32m      3\u001b[0m os\u001b[38;5;241m.\u001b[39mmakedirs(NEG_PATH)\n\u001b[1;32m      4\u001b[0m os\u001b[38;5;241m.\u001b[39mmakedirs(ANC_PATH)\n",
      "File \u001b[0;32m<frozen os>:225\u001b[0m, in \u001b[0;36mmakedirs\u001b[0;34m(name, mode, exist_ok)\u001b[0m\n",
      "\u001b[0;31mFileExistsError\u001b[0m: [Errno 17] File exists: 'data/positive'"
     ]
    }
   ],
   "source": [
    "# Make the directories\n",
    "os.makedirs(POS_PATH)\n",
    "os.makedirs(NEG_PATH)\n",
    "os.makedirs(ANC_PATH)"
   ]
  },
  {
   "cell_type": "markdown",
   "id": "fe3c630a",
   "metadata": {},
   "source": [
    "# Collect Positives and Anchors"
   ]
  },
  {
   "cell_type": "markdown",
   "id": "531a7001",
   "metadata": {},
   "source": [
    "## Untar Labelled Faces in the Wild Dataset"
   ]
  },
  {
   "cell_type": "code",
   "execution_count": 14,
   "id": "97b44f5c",
   "metadata": {},
   "outputs": [],
   "source": [
    "# Move LFW Images to the following repository data/negative\n",
    "!tar -xf lfw.tar"
   ]
  },
  {
   "cell_type": "code",
   "execution_count": 18,
   "id": "bc161031",
   "metadata": {},
   "outputs": [],
   "source": [
    "# Move LFW Images to the following repository data/negative\n",
    "for directory in os.listdir('lfw'):\n",
    "    for file in os.listdir(os.path.join('lfw', directory)):\n",
    "        EX_PATH = os.path.join('lfw', directory, file)\n",
    "        NEW_PATH = os.path.join (NEG_PATH, file)\n",
    "        os.replace(EX_PATH, NEW_PATH)"
   ]
  },
  {
   "cell_type": "markdown",
   "id": "ccd07f67",
   "metadata": {},
   "source": [
    "## Collect Positive and Anchor Classes"
   ]
  },
  {
   "cell_type": "code",
   "execution_count": 7,
   "id": "4034d3ba",
   "metadata": {},
   "outputs": [],
   "source": [
    "import uuid"
   ]
  },
  {
   "cell_type": "code",
   "execution_count": 106,
   "id": "5e76e682",
   "metadata": {},
   "outputs": [
    {
     "data": {
      "text/plain": [
       "-1"
      ]
     },
     "execution_count": 106,
     "metadata": {},
     "output_type": "execute_result"
    }
   ],
   "source": [
    "# Establish a connection to the webcam\n",
    "cap = cv2.VideoCapture(0)\n",
    "\n",
    "while cap.isOpened( ):\n",
    "    ret, frame = cap.read()\n",
    "    \n",
    "    # Cut down frame to 250×250px\n",
    "    frame = cv2.flip(cv2.resize(frame[140:140+600, 700:700+600, :], (250, 250)), 1)\n",
    "    \n",
    "    # Collect anchors\n",
    "    if cv2.waitKey(10) & 0xFF == ord('a'):\n",
    "        # Create the unique file path\n",
    "        imgname = os.path.join(ANC_PATH, '{}.jpg'.format(uuid.uuid1()))\n",
    "        # Write out anchor image\n",
    "        cv2.imwrite(imgname, frame)\n",
    "        \n",
    "    # Collect positives\n",
    "    if cv2.waitKey(10) & 0xFF == ord('b'):\n",
    "        # Create the unique file path\n",
    "        imgname = os.path.join(POS_PATH, '{}.jpg'.format(uuid.uuid1()))\n",
    "        # Write out anchor image\n",
    "        cv2.imwrite(imgname, frame)\n",
    "    \n",
    "    # Show image back to screen\n",
    "    cv2.imshow('Image Collection', frame)\n",
    "    \n",
    "    # Breaking gracefulLy\n",
    "    if cv2.waitKey(10) & 0xFF == ord('q'):\n",
    "        break\n",
    "        \n",
    "# Release the webcam\n",
    "cap.release()\n",
    "# Close the image show frame\n",
    "cv2.destroyAllWindows()\n",
    "cv2.waitKey(1)"
   ]
  },
  {
   "cell_type": "markdown",
   "id": "dd756335",
   "metadata": {},
   "source": [
    "## Data Augmentation"
   ]
  },
  {
   "cell_type": "code",
   "execution_count": 161,
   "id": "276d1082",
   "metadata": {},
   "outputs": [],
   "source": [
    "def data_aug(img) :\n",
    "    data = []\n",
    "    for i in range(10):\n",
    "        img = tf.image.stateless_random_brightness(img, max_delta=0.02, seed= (1,2))\n",
    "        img = tf.image.stateless_random_contrast(img, lower=0.6, upper=1, seed=(1,3))\n",
    "        # img = tf. image. stateless_random_crop(img, size=(20, 20, 3), seed= (1, 2))\n",
    "        img = tf.image.stateless_random_flip_left_right(img, seed=(np.random.randint(100), np.random.randint(100)))\n",
    "        # img = tf.image.stateless_random_jpeg_quality(img, min_jpeg_quality=90, max_jpeg_quality=100, seed = [0, 3])\n",
    "        img = tf.image.stateless_random_saturation(img, lower=0.9,upper=1, seed= (np.random.randint(100), np.random.randint (100)))\n",
    "        data.append(img)\n",
    "    return data"
   ]
  },
  {
   "cell_type": "code",
   "execution_count": 153,
   "id": "75a03a58",
   "metadata": {},
   "outputs": [],
   "source": [
    "img_path = os.path.join(ANC_PATH, '78808b7e-8df7-11ee-a19f-1e592a5e1493.jpg')\n",
    "img = cv2.imread(img_path)\n",
    "augmented_images = data_aug(img)\n",
    "for image in augmented_images:\n",
    "    # cv2.imwrite(os.path. join(ANC_PATH, '().jpg'.format (uuid.uuid1())), image.numpy ())\n",
    "    cv2.imwrite(os.path.join(ANC_PATH, '{}.jpg'.format(uuid.uuid1())), image.numpy())\n",
    "    "
   ]
  },
  {
   "cell_type": "code",
   "execution_count": 155,
   "id": "54864e34",
   "metadata": {},
   "outputs": [],
   "source": [
    "for file_name in os.listdir(os.path.join(ANC_PATH)) :\n",
    "    if file_name.endswith(\".jpg\"):\n",
    "        img_path = os.path.join(ANC_PATH, file_name)\n",
    "        img = cv2.imread(img_path)\n",
    "        augmented_images = data_aug(img)\n",
    "        for image in augmented_images:\n",
    "            cv2.imwrite(os.path.join(ANC_PATH, '{}.jpg'.format(uuid.uuid1())), image.numpy())\n",
    "        "
   ]
  },
  {
   "cell_type": "code",
   "execution_count": 156,
   "id": "27e7e7d0",
   "metadata": {},
   "outputs": [],
   "source": [
    "for file_name in os.listdir(os.path.join(POS_PATH)) :\n",
    "    if file_name.endswith(\".jpg\"):\n",
    "        img_path = os.path.join(POS_PATH, file_name)\n",
    "        img = cv2.imread(img_path)\n",
    "        augmented_images = data_aug(img)\n",
    "        for image in augmented_images:\n",
    "            cv2.imwrite(os.path.join(POS_PATH, '{}.jpg'.format(uuid.uuid1())), image.numpy())"
   ]
  },
  {
   "cell_type": "code",
   "execution_count": 157,
   "id": "1c9584b5",
   "metadata": {},
   "outputs": [
    {
     "data": {
      "text/plain": [
       "7201"
      ]
     },
     "execution_count": 157,
     "metadata": {},
     "output_type": "execute_result"
    }
   ],
   "source": [
    "len(os.listdir(os.path.join(ANC_PATH)))"
   ]
  },
  {
   "cell_type": "code",
   "execution_count": 158,
   "id": "6f712053",
   "metadata": {},
   "outputs": [
    {
     "data": {
      "text/plain": [
       "2301"
      ]
     },
     "execution_count": 158,
     "metadata": {},
     "output_type": "execute_result"
    }
   ],
   "source": [
    "len(os.listdir(os.path.join(POS_PATH)))"
   ]
  },
  {
   "cell_type": "markdown",
   "id": "07615c0c",
   "metadata": {},
   "source": [
    "## No face just background"
   ]
  },
  {
   "cell_type": "code",
   "execution_count": 159,
   "id": "32af9015",
   "metadata": {},
   "outputs": [],
   "source": [
    "NoFace_PATH = os.path.join('data','NoFace')"
   ]
  },
  {
   "cell_type": "code",
   "execution_count": 160,
   "id": "8ed8db37",
   "metadata": {},
   "outputs": [
    {
     "data": {
      "text/plain": [
       "-1"
      ]
     },
     "execution_count": 160,
     "metadata": {},
     "output_type": "execute_result"
    }
   ],
   "source": [
    "# Establish a connection to the webcam\n",
    "cap = cv2.VideoCapture(0)\n",
    "\n",
    "while cap.isOpened( ):\n",
    "    ret, frame = cap.read()\n",
    "    \n",
    "    # Cut down frame to 250×250px\n",
    "    frame = cv2.flip(cv2.resize(frame[140:140+600, 700:700+600, :], (250, 250)), 1)\n",
    "    \n",
    "    \n",
    "        \n",
    "    # Collect no_face images\n",
    "    if cv2.waitKey(10) & 0xFF == ord('n'):\n",
    "        # Create the unique file path\n",
    "        imgname = os.path.join(NoFace_PATH, '{}.jpg'.format(uuid.uuid1()))\n",
    "        # Write out anchor image\n",
    "        cv2.imwrite(imgname, frame)\n",
    "    \n",
    "    # Show image back to screen\n",
    "    cv2.imshow('Image Collection', frame)\n",
    "    \n",
    "    # Breaking gracefulLy\n",
    "    if cv2.waitKey(10) & 0xFF == ord('q'):\n",
    "        break\n",
    "        \n",
    "# Release the webcam\n",
    "cap.release()\n",
    "# Close the image show frame\n",
    "cv2.destroyAllWindows()\n",
    "cv2.waitKey(1)"
   ]
  },
  {
   "cell_type": "code",
   "execution_count": 163,
   "id": "80714395",
   "metadata": {},
   "outputs": [],
   "source": [
    "for file_name in os.listdir(os.path.join(NoFace_PATH)) :\n",
    "    if file_name.endswith(\".jpg\"):\n",
    "        img_path = os.path.join(NoFace_PATH, file_name)\n",
    "        img = cv2.imread(img_path)\n",
    "        augmented_images = data_aug(img)\n",
    "        for image in augmented_images:\n",
    "            cv2.imwrite(os.path.join(NoFace_PATH, '{}.jpg'.format(uuid.uuid1())), image.numpy())"
   ]
  },
  {
   "cell_type": "code",
   "execution_count": 164,
   "id": "3e48a578",
   "metadata": {},
   "outputs": [
    {
     "data": {
      "text/plain": [
       "110"
      ]
     },
     "execution_count": 164,
     "metadata": {},
     "output_type": "execute_result"
    }
   ],
   "source": [
    "len(os.listdir(os.path.join(NoFace_PATH)))"
   ]
  },
  {
   "cell_type": "markdown",
   "id": "0d95289f",
   "metadata": {},
   "source": [
    "# Load and Preprocess images"
   ]
  },
  {
   "cell_type": "markdown",
   "id": "abd6028f",
   "metadata": {},
   "source": [
    "## Get image directories"
   ]
  },
  {
   "cell_type": "code",
   "execution_count": 8,
   "id": "907e1143",
   "metadata": {},
   "outputs": [
    {
     "data": {
      "text/plain": [
       "'data/anchor*.jpg'"
      ]
     },
     "execution_count": 8,
     "metadata": {},
     "output_type": "execute_result"
    }
   ],
   "source": [
    "ANC_PATH + '*.jpg'"
   ]
  },
  {
   "cell_type": "code",
   "execution_count": 165,
   "id": "9c63f72d",
   "metadata": {},
   "outputs": [],
   "source": [
    "anchor = tf.data.Dataset.list_files(ANC_PATH + '/*.jpg').take(2300)\n",
    "positive = tf.data.Dataset.list_files(POS_PATH + '/*.jpg').take(2300)\n",
    "negative = tf.data.Dataset.list_files(NEG_PATH + '/*.jpg').take(2200)"
   ]
  },
  {
   "cell_type": "code",
   "execution_count": 172,
   "id": "26f33ffd",
   "metadata": {},
   "outputs": [
    {
     "data": {
      "text/plain": [
       "tensorflow.python.data.ops.take_op._TakeDataset"
      ]
     },
     "execution_count": 172,
     "metadata": {},
     "output_type": "execute_result"
    }
   ],
   "source": [
    "type(anchor)"
   ]
  },
  {
   "cell_type": "code",
   "execution_count": 173,
   "id": "b62be2c6",
   "metadata": {},
   "outputs": [],
   "source": [
    "# adding 100 NoFace images to negative\n",
    "negative = negative.concatenate(tf.data.Dataset.list_files(NoFace_PATH + '/*.jpg').take(100))"
   ]
  },
  {
   "cell_type": "code",
   "execution_count": 174,
   "id": "08d70d8c",
   "metadata": {},
   "outputs": [
    {
     "data": {
      "text/plain": [
       "2300"
      ]
     },
     "execution_count": 174,
     "metadata": {},
     "output_type": "execute_result"
    }
   ],
   "source": [
    "len(negative)"
   ]
  },
  {
   "cell_type": "code",
   "execution_count": 175,
   "id": "4e8db4b0",
   "metadata": {},
   "outputs": [],
   "source": [
    "dir_test = negative.as_numpy_iterator()"
   ]
  },
  {
   "cell_type": "code",
   "execution_count": 184,
   "id": "7a1d22d1",
   "metadata": {},
   "outputs": [
    {
     "data": {
      "text/plain": [
       "b'data/negative/Larry_Wilmore_0001.jpg'"
      ]
     },
     "execution_count": 184,
     "metadata": {},
     "output_type": "execute_result"
    }
   ],
   "source": [
    "dir_test.next()"
   ]
  },
  {
   "cell_type": "markdown",
   "id": "4580b526",
   "metadata": {},
   "source": [
    "## Preprocessing - Scale and Resize"
   ]
  },
  {
   "cell_type": "code",
   "execution_count": 185,
   "id": "b908912a",
   "metadata": {},
   "outputs": [],
   "source": [
    "def preprocess (file_path):\n",
    "    # Read in image from file path\n",
    "    byte_img = tf.io.read_file(file_path)\n",
    "    # Load in the image\n",
    "    img = tf.io.decode_jpeg(byte_img)\n",
    "    # Preprocessing steps - resizing the image to be 100×100x3\n",
    "    img = tf.image.resize(img, (100, 100))\n",
    "    img = img / 255.0\n",
    "    return img"
   ]
  },
  {
   "cell_type": "code",
   "execution_count": 186,
   "id": "9a6e4a9c",
   "metadata": {},
   "outputs": [],
   "source": [
    "img = preprocess(b'data/anchor/12d0ab50-89c5-11ee-a00c-1e592a5e1493.jpg')"
   ]
  },
  {
   "cell_type": "code",
   "execution_count": 187,
   "id": "2cbeb0c2",
   "metadata": {},
   "outputs": [
    {
     "data": {
      "text/plain": [
       "1.0"
      ]
     },
     "execution_count": 187,
     "metadata": {},
     "output_type": "execute_result"
    }
   ],
   "source": [
    "img.numpy().max()"
   ]
  },
  {
   "cell_type": "markdown",
   "id": "f7dfc357",
   "metadata": {},
   "source": [
    "## Creat Labeled dataset"
   ]
  },
  {
   "cell_type": "code",
   "execution_count": 188,
   "id": "52a914bd",
   "metadata": {},
   "outputs": [],
   "source": [
    "# (anchor, positive) =› 1, 1, 1, 1, 1\n",
    "# (anchor, negative) => 0, 0, 0, 0, 0"
   ]
  },
  {
   "cell_type": "code",
   "execution_count": 189,
   "id": "d7bbca40",
   "metadata": {},
   "outputs": [
    {
     "data": {
      "text/plain": [
       "<tf.Tensor: shape=(2300,), dtype=float32, numpy=array([1., 1., 1., ..., 1., 1., 1.], dtype=float32)>"
      ]
     },
     "execution_count": 189,
     "metadata": {},
     "output_type": "execute_result"
    }
   ],
   "source": [
    "tf.ones(len(positive))"
   ]
  },
  {
   "cell_type": "code",
   "execution_count": 190,
   "id": "daecc916",
   "metadata": {},
   "outputs": [],
   "source": [
    "positives = tf.data.Dataset.zip((anchor, positive, tf.data.Dataset.from_tensor_slices(tf.ones(len(anchor)))))\n",
    "negatives = tf.data.Dataset.zip((anchor, negative, tf.data.Dataset.from_tensor_slices(tf.zeros(len(anchor)))))\n",
    "data = positives.concatenate(negatives)"
   ]
  },
  {
   "cell_type": "code",
   "execution_count": 191,
   "id": "7b01d22c",
   "metadata": {},
   "outputs": [
    {
     "data": {
      "text/plain": [
       "<_ConcatenateDataset element_spec=(TensorSpec(shape=(), dtype=tf.string, name=None), TensorSpec(shape=(), dtype=tf.string, name=None), TensorSpec(shape=(), dtype=tf.float32, name=None))>"
      ]
     },
     "execution_count": 191,
     "metadata": {},
     "output_type": "execute_result"
    }
   ],
   "source": [
    "data"
   ]
  },
  {
   "cell_type": "code",
   "execution_count": 192,
   "id": "daef0f12",
   "metadata": {},
   "outputs": [],
   "source": [
    "samples = data.as_numpy_iterator()"
   ]
  },
  {
   "cell_type": "code",
   "execution_count": 195,
   "id": "5f5414cd",
   "metadata": {},
   "outputs": [],
   "source": [
    "examples =samples.next()"
   ]
  },
  {
   "cell_type": "code",
   "execution_count": 196,
   "id": "45d44a80",
   "metadata": {},
   "outputs": [
    {
     "data": {
      "text/plain": [
       "(b'data/anchor/cf32136a-8dfd-11ee-a19f-1e592a5e1493.jpg',\n",
       " b'data/positive/0f9921e6-8dfe-11ee-a19f-1e592a5e1493.jpg',\n",
       " 1.0)"
      ]
     },
     "execution_count": 196,
     "metadata": {},
     "output_type": "execute_result"
    }
   ],
   "source": [
    "examples"
   ]
  },
  {
   "cell_type": "markdown",
   "id": "3b33cc98",
   "metadata": {},
   "source": [
    "## Build Train and Test partition"
   ]
  },
  {
   "cell_type": "code",
   "execution_count": 197,
   "id": "f4f3b398",
   "metadata": {},
   "outputs": [],
   "source": [
    "def preprocess_twin(input_img, validation_img, label):\n",
    "    return (preprocess(input_img), preprocess(validation_img), label) "
   ]
  },
  {
   "cell_type": "code",
   "execution_count": 198,
   "id": "63039235",
   "metadata": {},
   "outputs": [
    {
     "data": {
      "text/plain": [
       "(<tf.Tensor: shape=(100, 100, 3), dtype=float32, numpy=\n",
       " array([[[0.91862744, 0.86764705, 0.80490196],\n",
       "         [0.92058825, 0.86960787, 0.8068628 ],\n",
       "         [0.9191176 , 0.86813724, 0.80539215],\n",
       "         ...,\n",
       "         [0.9218137 , 0.87083334, 0.80808824],\n",
       "         [0.9218137 , 0.87083334, 0.80808824],\n",
       "         [0.9169118 , 0.8659314 , 0.8031863 ]],\n",
       " \n",
       "        [[0.9218137 , 0.87083334, 0.80808824],\n",
       "         [0.92156863, 0.87058824, 0.80784315],\n",
       "         [0.92156863, 0.87058824, 0.80784315],\n",
       "         ...,\n",
       "         [0.9235294 , 0.87352943, 0.81078434],\n",
       "         [0.9169118 , 0.86691177, 0.8041667 ],\n",
       "         [0.91764706, 0.86764705, 0.80490196]],\n",
       " \n",
       "        [[0.9254902 , 0.8745098 , 0.8117647 ],\n",
       "         [0.92156863, 0.87058824, 0.80784315],\n",
       "         [0.9245098 , 0.87352943, 0.81078434],\n",
       "         ...,\n",
       "         [0.92156863, 0.8745098 , 0.8117647 ],\n",
       "         [0.91838235, 0.8713235 , 0.80857843],\n",
       "         [0.9196078 , 0.872549  , 0.8098039 ]],\n",
       " \n",
       "        ...,\n",
       " \n",
       "        [[0.92941177, 0.88235295, 0.827451  ],\n",
       "         [0.9254902 , 0.8784314 , 0.8235294 ],\n",
       "         [0.9232843 , 0.8762255 , 0.8213235 ],\n",
       "         ...,\n",
       "         [0.51740193, 0.4742647 , 0.4507353 ],\n",
       "         [0.5127451 , 0.46960783, 0.44607842],\n",
       "         [0.5156863 , 0.47254902, 0.4490196 ]],\n",
       " \n",
       "        [[0.9264706 , 0.87941176, 0.8245098 ],\n",
       "         [0.9254902 , 0.8784314 , 0.8235294 ],\n",
       "         [0.9254902 , 0.8784314 , 0.8235294 ],\n",
       "         ...,\n",
       "         [0.5127451 , 0.47254902, 0.44019607],\n",
       "         [0.5095588 , 0.46936274, 0.4370098 ],\n",
       "         [0.5127451 , 0.47254902, 0.44019607]],\n",
       " \n",
       "        [[0.9254902 , 0.8784314 , 0.8156863 ],\n",
       "         [0.9254902 , 0.8784314 , 0.8156863 ],\n",
       "         [0.9254902 , 0.8784314 , 0.8156863 ],\n",
       "         ...,\n",
       "         [0.5117647 , 0.4764706 , 0.44117647],\n",
       "         [0.5117647 , 0.4764706 , 0.44117647],\n",
       "         [0.50980395, 0.4745098 , 0.4392157 ]]], dtype=float32)>,\n",
       " <tf.Tensor: shape=(100, 100, 3), dtype=float32, numpy=\n",
       " array([[[0.7519608 , 0.70490193, 0.6578431 ],\n",
       "         [0.7529412 , 0.7058824 , 0.65882355],\n",
       "         [0.7529412 , 0.7058824 , 0.65882355],\n",
       "         ...,\n",
       "         [0.7480392 , 0.68921566, 0.61470586],\n",
       "         [0.74509805, 0.6862745 , 0.6117647 ],\n",
       "         [0.74509805, 0.6862745 , 0.6039216 ]],\n",
       " \n",
       "        [[0.7490196 , 0.7019608 , 0.654902  ],\n",
       "         [0.7522059 , 0.7051471 , 0.6580882 ],\n",
       "         [0.7529412 , 0.7058824 , 0.65882355],\n",
       "         ...,\n",
       "         [0.75980395, 0.7       , 0.6362745 ],\n",
       "         [0.75514704, 0.69754905, 0.6272059 ],\n",
       "         [0.75392157, 0.69411767, 0.622549  ]],\n",
       " \n",
       "        [[0.7536765 , 0.70661765, 0.65955883],\n",
       "         [0.7519608 , 0.70490193, 0.6578431 ],\n",
       "         [0.7529412 , 0.7058824 , 0.65882355],\n",
       "         ...,\n",
       "         [0.76053923, 0.70955884, 0.6370098 ],\n",
       "         [0.7588235 , 0.7078431 , 0.63529414],\n",
       "         [0.7607843 , 0.70686275, 0.63529414]],\n",
       " \n",
       "        ...,\n",
       " \n",
       "        [[0.92941177, 0.8862745 , 0.8156863 ],\n",
       "         [0.9343137 , 0.89117646, 0.82058823],\n",
       "         [0.9372549 , 0.89411765, 0.8235294 ],\n",
       "         ...,\n",
       "         [0.8980392 , 0.8509804 , 0.7882353 ],\n",
       "         [0.8980392 , 0.8509804 , 0.7882353 ],\n",
       "         [0.89411765, 0.85882354, 0.7921569 ]],\n",
       " \n",
       "        [[0.9362745 , 0.8872549 , 0.81960785],\n",
       "         [0.9343137 , 0.89117646, 0.82058823],\n",
       "         [0.9379902 , 0.89485294, 0.8242647 ],\n",
       "         ...,\n",
       "         [0.9009804 , 0.8539216 , 0.7911765 ],\n",
       "         [0.8980392 , 0.8509804 , 0.7882353 ],\n",
       "         [0.89411765, 0.85882354, 0.7921569 ]],\n",
       " \n",
       "        [[0.93333334, 0.88235295, 0.8156863 ],\n",
       "         [0.9352941 , 0.89215684, 0.8215686 ],\n",
       "         [0.9382353 , 0.89509803, 0.8245098 ],\n",
       "         ...,\n",
       "         [0.9019608 , 0.85490197, 0.7921569 ],\n",
       "         [0.9019608 , 0.85490197, 0.7921569 ],\n",
       "         [0.89411765, 0.85882354, 0.7921569 ]]], dtype=float32)>,\n",
       " 1.0)"
      ]
     },
     "execution_count": 198,
     "metadata": {},
     "output_type": "execute_result"
    }
   ],
   "source": [
    "preprocess_twin(*examples)"
   ]
  },
  {
   "cell_type": "code",
   "execution_count": 199,
   "id": "56d2c40b",
   "metadata": {},
   "outputs": [],
   "source": [
    "# Build dataloader pipeline\n",
    "data = data.map(preprocess_twin)\n",
    "data = data.cache()\n",
    "data = data.shuffle(buffer_size=10000)"
   ]
  },
  {
   "cell_type": "code",
   "execution_count": 200,
   "id": "779c2ae0",
   "metadata": {},
   "outputs": [
    {
     "data": {
      "text/plain": [
       "<_ShuffleDataset element_spec=(TensorSpec(shape=(100, 100, None), dtype=tf.float32, name=None), TensorSpec(shape=(100, 100, None), dtype=tf.float32, name=None), TensorSpec(shape=(), dtype=tf.float32, name=None))>"
      ]
     },
     "execution_count": 200,
     "metadata": {},
     "output_type": "execute_result"
    }
   ],
   "source": [
    "data"
   ]
  },
  {
   "cell_type": "code",
   "execution_count": 207,
   "id": "4b893922",
   "metadata": {},
   "outputs": [],
   "source": [
    "samples = data.as_numpy_iterator()"
   ]
  },
  {
   "cell_type": "code",
   "execution_count": 208,
   "id": "a32391f1",
   "metadata": {},
   "outputs": [
    {
     "data": {
      "text/plain": [
       "(array([[[0.8901961 , 0.8352941 , 0.78431374],\n",
       "         [0.8901961 , 0.8352941 , 0.78431374],\n",
       "         [0.8901961 , 0.8352941 , 0.78431374],\n",
       "         ...,\n",
       "         [0.9137255 , 0.8784314 , 0.81960785],\n",
       "         [0.9115196 , 0.87328434, 0.8232843 ],\n",
       "         [0.9137255 , 0.8745098 , 0.827451  ]],\n",
       " \n",
       "        [[0.8904412 , 0.8355392 , 0.78455883],\n",
       "         [0.8901961 , 0.8352941 , 0.78431374],\n",
       "         [0.89411765, 0.8392157 , 0.7882353 ],\n",
       "         ...,\n",
       "         [0.91568625, 0.877451  , 0.81960785],\n",
       "         [0.9164216 , 0.8781863 , 0.82034314],\n",
       "         [0.91568625, 0.8745098 , 0.827451  ]],\n",
       " \n",
       "        [[0.89117646, 0.8362745 , 0.7852941 ],\n",
       "         [0.8901961 , 0.8352941 , 0.78431374],\n",
       "         [0.89411765, 0.8392157 , 0.7882353 ],\n",
       "         ...,\n",
       "         [0.922549  , 0.8754902 , 0.82058823],\n",
       "         [0.92769605, 0.8806372 , 0.8257353 ],\n",
       "         [0.9254902 , 0.8784314 , 0.8254902 ]],\n",
       " \n",
       "        ...,\n",
       " \n",
       "        [[0.9019608 , 0.85490197, 0.80784315],\n",
       "         [0.9019608 , 0.85490197, 0.80784315],\n",
       "         [0.9019608 , 0.85490197, 0.80784315],\n",
       "         ...,\n",
       "         [0.9019608 , 0.8666667 , 0.80784315],\n",
       "         [0.9078431 , 0.8637255 , 0.8137255 ],\n",
       "         [0.9098039 , 0.8627451 , 0.8156863 ]],\n",
       " \n",
       "        [[0.9019608 , 0.85490197, 0.80784315],\n",
       "         [0.9019608 , 0.85490197, 0.80784315],\n",
       "         [0.9019608 , 0.85490197, 0.80784315],\n",
       "         ...,\n",
       "         [0.8990196 , 0.8637255 , 0.80490196],\n",
       "         [0.9078431 , 0.8637255 , 0.8137255 ],\n",
       "         [0.90588236, 0.85882354, 0.8117647 ]],\n",
       " \n",
       "        [[0.9019608 , 0.85490197, 0.80784315],\n",
       "         [0.9019608 , 0.85490197, 0.80784315],\n",
       "         [0.9019608 , 0.85490197, 0.80784315],\n",
       "         ...,\n",
       "         [0.9019608 , 0.8666667 , 0.80784315],\n",
       "         [0.9078431 , 0.8637255 , 0.8137255 ],\n",
       "         [0.9098039 , 0.8627451 , 0.8156863 ]]], dtype=float32),\n",
       " array([[[0.02745098, 0.07058824, 0.04705882],\n",
       "         [0.02181373, 0.0629902 , 0.04044118],\n",
       "         [0.00955882, 0.04485294, 0.0252451 ],\n",
       "         ...,\n",
       "         [0.03504902, 0.05269608, 0.04779412],\n",
       "         [0.03529412, 0.05882353, 0.04509804],\n",
       "         [0.03039216, 0.06568628, 0.04607843]],\n",
       " \n",
       "        [[0.03553922, 0.07671569, 0.05612745],\n",
       "         [0.02401961, 0.06372549, 0.04387255],\n",
       "         [0.00955882, 0.04485294, 0.02720588],\n",
       "         ...,\n",
       "         [0.0382353 , 0.06470589, 0.05588235],\n",
       "         [0.03284314, 0.06593137, 0.04901961],\n",
       "         [0.03039216, 0.06666667, 0.04411765]],\n",
       " \n",
       "        [[0.03627451, 0.07156863, 0.06568628],\n",
       "         [0.02843137, 0.06372549, 0.05784314],\n",
       "         [0.0127451 , 0.04803922, 0.04215686],\n",
       "         ...,\n",
       "         [0.02843137, 0.07450981, 0.05882353],\n",
       "         [0.02622549, 0.06740196, 0.04681373],\n",
       "         [0.02058824, 0.0627451 , 0.0372549 ]],\n",
       " \n",
       "        ...,\n",
       " \n",
       "        [[0.08357843, 0.42769608, 0.36397058],\n",
       "         [0.10661764, 0.44166666, 0.38186276],\n",
       "         [0.1004902 , 0.41789216, 0.3720588 ],\n",
       "         ...,\n",
       "         [0.7678922 , 0.7970588 , 0.80563724],\n",
       "         [0.75147057, 0.7872549 , 0.79289216],\n",
       "         [0.7022059 , 0.74289215, 0.74607843]],\n",
       " \n",
       "        [[0.08995098, 0.41151962, 0.33700982],\n",
       "         [0.10833333, 0.41127452, 0.35196078],\n",
       "         [0.1242647 , 0.40392157, 0.3634804 ],\n",
       "         ...,\n",
       "         [0.7752451 , 0.79558825, 0.80710787],\n",
       "         [0.75441176, 0.78357846, 0.7921569 ],\n",
       "         [0.71936274, 0.7526961 , 0.7595588 ]],\n",
       " \n",
       "        [[0.07990196, 0.35833332, 0.2870098 ],\n",
       "         [0.10735294, 0.35882354, 0.30784315],\n",
       "         [0.13161765, 0.35367647, 0.32941177],\n",
       "         ...,\n",
       "         [0.77156866, 0.7911765 , 0.8029412 ],\n",
       "         [0.75490195, 0.7745098 , 0.7862745 ],\n",
       "         [0.7107843 , 0.74215686, 0.75      ]]], dtype=float32),\n",
       " 0.0)"
      ]
     },
     "execution_count": 208,
     "metadata": {},
     "output_type": "execute_result"
    }
   ],
   "source": [
    "samples.next()"
   ]
  },
  {
   "cell_type": "code",
   "execution_count": 214,
   "id": "a730d99b",
   "metadata": {},
   "outputs": [],
   "source": [
    "# Training partition\n",
    "train_data = data.take(round(len(data)*.9))\n",
    "train_data = train_data.batch(16)\n",
    "train_data = train_data.prefetch(8)"
   ]
  },
  {
   "cell_type": "code",
   "execution_count": 215,
   "id": "d730732c",
   "metadata": {},
   "outputs": [
    {
     "data": {
      "text/plain": [
       "<_PrefetchDataset element_spec=(TensorSpec(shape=(None, 100, 100, None), dtype=tf.float32, name=None), TensorSpec(shape=(None, 100, 100, None), dtype=tf.float32, name=None), TensorSpec(shape=(None,), dtype=tf.float32, name=None))>"
      ]
     },
     "execution_count": 215,
     "metadata": {},
     "output_type": "execute_result"
    }
   ],
   "source": [
    "train_data"
   ]
  },
  {
   "cell_type": "code",
   "execution_count": 216,
   "id": "837810a1",
   "metadata": {},
   "outputs": [],
   "source": [
    "# Testing partition\n",
    "test_data = data.skip(round(len(data)*.1))\n",
    "test_data = test_data.take(round(len(data)*.1))\n",
    "test_data = test_data.batch(16)\n",
    "test_data = test_data.prefetch(8)"
   ]
  },
  {
   "cell_type": "code",
   "execution_count": 217,
   "id": "170c7562",
   "metadata": {},
   "outputs": [
    {
     "data": {
      "text/plain": [
       "<_PrefetchDataset element_spec=(TensorSpec(shape=(None, 100, 100, None), dtype=tf.float32, name=None), TensorSpec(shape=(None, 100, 100, None), dtype=tf.float32, name=None), TensorSpec(shape=(None,), dtype=tf.float32, name=None))>"
      ]
     },
     "execution_count": 217,
     "metadata": {},
     "output_type": "execute_result"
    }
   ],
   "source": [
    "test_data"
   ]
  },
  {
   "cell_type": "markdown",
   "id": "2228f2bf",
   "metadata": {},
   "source": [
    "# Model Engineering"
   ]
  },
  {
   "cell_type": "markdown",
   "id": "996cfec8",
   "metadata": {},
   "source": [
    "## Build Embedding layer"
   ]
  },
  {
   "cell_type": "code",
   "execution_count": 218,
   "id": "bb844871",
   "metadata": {},
   "outputs": [],
   "source": [
    "def make_embedding() :\n",
    "    inp = Input(shape=(100, 100, 3), name = 'input_image')\n",
    "    \n",
    "    # First block\n",
    "    c1 = Conv2D(64, (10,10), activation='relu')(inp)\n",
    "    m1 = MaxPooling2D(64, (2,2), padding= 'same')(c1)\n",
    "    \n",
    "    # Second block\n",
    "    c2 = Conv2D(128, (7,7), activation= 'relu') (m1)\n",
    "    m2 = MaxPooling2D(64, (2,2), padding= 'same')(c2)\n",
    "    \n",
    "    # Third block\n",
    "    c3 = Conv2D (128, (4,4), activation='relu') (m2)\n",
    "    m3 = MaxPooling2D (64, (2,2), padding= 'same') (c3)\n",
    "    \n",
    "    # Final embedding block\n",
    "    c4 = Conv2D(256, (4,4), activation= 'relu')(m3)\n",
    "    f1 = Flatten()(c4)\n",
    "    d1 = Dense(4096, activation='sigmoid')(f1)\n",
    "    \n",
    "    return Model(inputs=[inp], outputs= [d1], name='embedding')"
   ]
  },
  {
   "cell_type": "code",
   "execution_count": 219,
   "id": "31c0158d",
   "metadata": {},
   "outputs": [],
   "source": [
    "embedding = make_embedding()"
   ]
  },
  {
   "cell_type": "code",
   "execution_count": 220,
   "id": "00ef6208",
   "metadata": {},
   "outputs": [
    {
     "name": "stdout",
     "output_type": "stream",
     "text": [
      "Model: \"embedding\"\n",
      "_________________________________________________________________\n",
      " Layer (type)                Output Shape              Param #   \n",
      "=================================================================\n",
      " input_image (InputLayer)    [(None, 100, 100, 3)]     0         \n",
      "                                                                 \n",
      " conv2d_8 (Conv2D)           (None, 91, 91, 64)        19264     \n",
      "                                                                 \n",
      " max_pooling2d_6 (MaxPoolin  (None, 46, 46, 64)        0         \n",
      " g2D)                                                            \n",
      "                                                                 \n",
      " conv2d_9 (Conv2D)           (None, 40, 40, 128)       401536    \n",
      "                                                                 \n",
      " max_pooling2d_7 (MaxPoolin  (None, 20, 20, 128)       0         \n",
      " g2D)                                                            \n",
      "                                                                 \n",
      " conv2d_10 (Conv2D)          (None, 17, 17, 128)       262272    \n",
      "                                                                 \n",
      " max_pooling2d_8 (MaxPoolin  (None, 9, 9, 128)         0         \n",
      " g2D)                                                            \n",
      "                                                                 \n",
      " conv2d_11 (Conv2D)          (None, 6, 6, 256)         524544    \n",
      "                                                                 \n",
      " flatten_2 (Flatten)         (None, 9216)              0         \n",
      "                                                                 \n",
      " dense_4 (Dense)             (None, 4096)              37752832  \n",
      "                                                                 \n",
      "=================================================================\n",
      "Total params: 38960448 (148.62 MB)\n",
      "Trainable params: 38960448 (148.62 MB)\n",
      "Non-trainable params: 0 (0.00 Byte)\n",
      "_________________________________________________________________\n"
     ]
    }
   ],
   "source": [
    "embedding.summary()"
   ]
  },
  {
   "cell_type": "markdown",
   "id": "b3d46a5d",
   "metadata": {},
   "source": [
    "## Build Distance layer"
   ]
  },
  {
   "cell_type": "code",
   "execution_count": 221,
   "id": "565a552c",
   "metadata": {},
   "outputs": [],
   "source": [
    "class L1Dist(Layer):\n",
    "    def __init__(self, **kwargs):\n",
    "        super().__init__()\n",
    "        \n",
    "    # Magic happens here\n",
    "    def call(self, input_embedding, validation_embedding):\n",
    "        return tf.math.abs(input_embedding - validation_embedding)"
   ]
  },
  {
   "cell_type": "code",
   "execution_count": 222,
   "id": "78045bbb",
   "metadata": {},
   "outputs": [],
   "source": [
    "l1 = L1Dist()"
   ]
  },
  {
   "cell_type": "code",
   "execution_count": 223,
   "id": "d5d85b69",
   "metadata": {},
   "outputs": [
    {
     "data": {
      "text/plain": [
       "<__main__.L1Dist at 0x281f0fe90>"
      ]
     },
     "execution_count": 223,
     "metadata": {},
     "output_type": "execute_result"
    }
   ],
   "source": [
    "l1"
   ]
  },
  {
   "cell_type": "markdown",
   "id": "8960fe1b",
   "metadata": {},
   "source": [
    "## Make Siamese Model"
   ]
  },
  {
   "cell_type": "code",
   "execution_count": 224,
   "id": "051b624a",
   "metadata": {},
   "outputs": [],
   "source": [
    "def make_siamese_model() :\n",
    "    \n",
    "    # Anchor image input in the network\n",
    "    input_image = Input(name='input_img', shape= (100, 100, 3))\n",
    "    \n",
    "    # Validation image in the network\n",
    "    validation_image = Input(name= 'validation_img', shape= (100, 100, 3))\n",
    "    \n",
    "    # Combine siamese distance components\n",
    "    siamese_layer = L1Dist()\n",
    "    siamese_layer._name = 'distance'\n",
    "    distances = siamese_layer(embedding(input_image), embedding(validation_image))\n",
    "    \n",
    "    # Classification layer\n",
    "    classifier = Dense(1, activation='sigmoid')(distances)\n",
    "    return Model(inputs=[input_image, validation_image], outputs=classifier, name='SiameseNetwork')"
   ]
  },
  {
   "cell_type": "code",
   "execution_count": 225,
   "id": "892df56b",
   "metadata": {},
   "outputs": [],
   "source": [
    "siamese_model = make_siamese_model()"
   ]
  },
  {
   "cell_type": "code",
   "execution_count": 226,
   "id": "8bb9456e",
   "metadata": {},
   "outputs": [
    {
     "name": "stdout",
     "output_type": "stream",
     "text": [
      "Model: \"SiameseNetwork\"\n",
      "__________________________________________________________________________________________________\n",
      " Layer (type)                Output Shape                 Param #   Connected to                  \n",
      "==================================================================================================\n",
      " input_img (InputLayer)      [(None, 100, 100, 3)]        0         []                            \n",
      "                                                                                                  \n",
      " validation_img (InputLayer  [(None, 100, 100, 3)]        0         []                            \n",
      " )                                                                                                \n",
      "                                                                                                  \n",
      " embedding (Functional)      (None, 4096)                 3896044   ['input_img[0][0]',           \n",
      "                                                          8          'validation_img[0][0]']      \n",
      "                                                                                                  \n",
      " distance (L1Dist)           (None, 4096)                 0         ['embedding[0][0]',           \n",
      "                                                                     'embedding[1][0]']           \n",
      "                                                                                                  \n",
      " dense_5 (Dense)             (None, 1)                    4097      ['distance[0][0]']            \n",
      "                                                                                                  \n",
      "==================================================================================================\n",
      "Total params: 38964545 (148.64 MB)\n",
      "Trainable params: 38964545 (148.64 MB)\n",
      "Non-trainable params: 0 (0.00 Byte)\n",
      "__________________________________________________________________________________________________\n"
     ]
    }
   ],
   "source": [
    "siamese_model.summary()"
   ]
  },
  {
   "cell_type": "markdown",
   "id": "249f21a7",
   "metadata": {},
   "source": [
    "# Training"
   ]
  },
  {
   "cell_type": "markdown",
   "id": "ad529308",
   "metadata": {},
   "source": [
    "## Set up Loss and Optimizer"
   ]
  },
  {
   "cell_type": "code",
   "execution_count": 227,
   "id": "23cbcfae",
   "metadata": {},
   "outputs": [],
   "source": [
    "binary_cross_loss = tf.losses.BinaryCrossentropy()"
   ]
  },
  {
   "cell_type": "code",
   "execution_count": 228,
   "id": "50fbe41f",
   "metadata": {},
   "outputs": [],
   "source": [
    "opt = tf.keras.optimizers.legacy.Adam(1e-4) # 0.0001"
   ]
  },
  {
   "cell_type": "code",
   "execution_count": null,
   "id": "ca747495",
   "metadata": {},
   "outputs": [],
   "source": [
    "# to load pre_trained model weights\n",
    "model.load(#path to checkpoint)"
   ]
  },
  {
   "cell_type": "markdown",
   "id": "afc9e77b",
   "metadata": {},
   "source": [
    "## Establish checkpoints"
   ]
  },
  {
   "cell_type": "code",
   "execution_count": 230,
   "id": "aacd728f",
   "metadata": {},
   "outputs": [],
   "source": [
    "checkpoint_dir = './training_checkpoints'\n",
    "checkpoint_prefix = os.path.join(checkpoint_dir, 'ckpt' )\n",
    "checkpoint = tf.train.Checkpoint(opt=opt, siamese_model=siamese_model)"
   ]
  },
  {
   "cell_type": "markdown",
   "id": "10360dd2",
   "metadata": {},
   "source": [
    "## Build Train Step Function"
   ]
  },
  {
   "cell_type": "code",
   "execution_count": 231,
   "id": "5d76a617",
   "metadata": {},
   "outputs": [],
   "source": [
    "# Import metric calculations\n",
    "from tensorflow.keras.metrics import Precision, Recall"
   ]
  },
  {
   "cell_type": "code",
   "execution_count": 238,
   "id": "663d29c3",
   "metadata": {},
   "outputs": [],
   "source": [
    "@tf.function\n",
    "def train_step(batch):\n",
    "    \n",
    "    with tf.GradientTape() as tape:\n",
    "        \n",
    "        # Get anchor and positive/negative image\n",
    "        X = batch[:2]\n",
    "        \n",
    "        # Get label\n",
    "        y = batch[2]\n",
    "        \n",
    "        # Forward pass\n",
    "        yhat = siamese_model(X, training=True)\n",
    "        \n",
    "        # Calculate loss\n",
    "        loss = binary_cross_loss(y, yhat)\n",
    "    \n",
    "    # Calculate gradients\n",
    "    grad = tape.gradient(loss, siamese_model.trainable_variables)\n",
    "    \n",
    "    # Calculate updated weights and apply to siamese model\n",
    "    opt.apply_gradients(zip(grad, siamese_model.trainable_variables))\n",
    "    \n",
    "    return loss"
   ]
  },
  {
   "cell_type": "markdown",
   "id": "7e8b3707",
   "metadata": {},
   "source": [
    "## Build training loop"
   ]
  },
  {
   "cell_type": "code",
   "execution_count": 242,
   "id": "359b38ad",
   "metadata": {},
   "outputs": [],
   "source": [
    "def train (data, EPOCHS) :\n",
    "    # Loop through epochs\n",
    "    for epoch in range(1, EPOCHS+1):\n",
    "        print('In Epoch {}/{}'.format(epoch, EPOCHS))\n",
    "        progbar = tf.keras.utils.Progbar(len(data))\n",
    "        \n",
    "        # Creating a metric object\n",
    "        r = Recall()\n",
    "        p = Precision()\n",
    "        \n",
    "        # Loop through each batch\n",
    "        for idx, batch in enumerate(data):\n",
    "            # Run train step here\n",
    "            train_step(batch)\n",
    "            \n",
    "            yhat = siamese_model.predict(batch[: 2])\n",
    "            \n",
    "            r.update_state(batch[2], yhat) \n",
    "            p.update_state(batch[2], yhat)\n",
    "            \n",
    "            progbar.update(idx+1)\n",
    "        \n",
    "        print(loss.numpy(), r.result().numpy(), p.result().numpy())\n",
    "            \n",
    "        # Save checkpoints\n",
    "        if epoch % 10 == 0:\n",
    "            checkpoint.save(file_prefix=checkpoint_prefix)"
   ]
  },
  {
   "cell_type": "markdown",
   "id": "14e65ce3",
   "metadata": {},
   "source": [
    "## Train the model"
   ]
  },
  {
   "cell_type": "code",
   "execution_count": 243,
   "id": "0b94a140",
   "metadata": {},
   "outputs": [],
   "source": [
    "EPOCHS = 20"
   ]
  },
  {
   "cell_type": "code",
   "execution_count": 244,
   "id": "948e4864",
   "metadata": {},
   "outputs": [
    {
     "name": "stdout",
     "output_type": "stream",
     "text": [
      "In Epoch 1/20\n",
      "1/1 [==============================] - 0s 110ms/step\n",
      "1/1 [==============================] - 2s 2s/step:\n",
      "1/1 [==============================] - 2s 2s/step:\n",
      "1/1 [==============================] - 2s 2s/step:\n",
      "1/1 [==============================] - 2s 2s/step:\n",
      "1/1 [==============================] - 2s 2s/step:\n",
      "1/1 [==============================] - 2s 2s/step:\n",
      "1/1 [==============================] - 2s 2s/step:\n",
      "1/1 [==============================] - 2s 2s/step:\n",
      "1/1 [==============================] - 2s 2s/step:\n",
      "1/1 [==============================] - 2s 2s/step:\n",
      "1/1 [==============================] - 2s 2s/step:\n",
      "1/1 [==============================] - 2s 2s/step:\n",
      "1/1 [==============================] - 2s 2s/step:\n",
      "1/1 [==============================] - 2s 2s/step:\n",
      "1/1 [==============================] - 0s 15ms/step\n",
      "1/1 [==============================] - 2s 2s/step:\n",
      "1/1 [==============================] - 0s 13ms/step\n",
      "1/1 [==============================] - 2s 2s/step:\n",
      "1/1 [==============================] - 2s 2s/step:\n",
      "1/1 [==============================] - 2s 2s/step:\n",
      "1/1 [==============================] - 2s 2s/step:\n",
      "1/1 [==============================] - 0s 14ms/step\n",
      "1/1 [==============================] - 2s 2s/step:\n",
      "1/1 [==============================] - 2s 2s/step:\n",
      "1/1 [==============================] - 2s 2s/step:\n",
      "1/1 [==============================] - 2s 2s/step:\n",
      "1/1 [==============================] - 2s 2s/step:\n",
      "1/1 [==============================] - 2s 2s/step:\n",
      "1/1 [==============================] - 2s 2s/step:\n",
      "1/1 [==============================] - 0s 11ms/step\n",
      "1/1 [==============================] - 2s 2s/step:\n",
      "1/1 [==============================] - 2s 2s/step:\n",
      "1/1 [==============================] - 2s 2s/step:\n",
      "1/1 [==============================] - 2s 2s/step:\n",
      "1/1 [==============================] - 2s 2s/step:\n",
      "1/1 [==============================] - 2s 2s/step:\n",
      "1/1 [==============================] - 2s 2s/step:\n",
      "1/1 [==============================] - 2s 2s/step:\n",
      "1/1 [==============================] - 2s 2s/step:\n",
      "1/1 [==============================] - 2s 2s/step:\n",
      "1/1 [==============================] - 2s 2s/step:\n",
      "1/1 [==============================] - 2s 2s/step:\n",
      "1/1 [==============================] - 2s 2s/step:\n",
      "1/1 [==============================] - 2s 2s/step:\n",
      "1/1 [==============================] - 2s 2s/step:\n",
      "1/1 [==============================] - 2s 2s/step:\n",
      "1/1 [==============================] - 2s 2s/step:\n",
      "1/1 [==============================] - 2s 2s/step:\n",
      "1/1 [==============================] - 2s 2s/step:\n",
      "1/1 [==============================] - 0s 17ms/step\n",
      "1/1 [==============================] - 2s 2s/step:\n",
      "1/1 [==============================] - 2s 2s/step:\n",
      "1/1 [==============================] - 2s 2s/step:\n",
      "1/1 [==============================] - 2s 2s/step:\n",
      "1/1 [==============================] - 0s 12ms/step\n",
      "1/1 [==============================] - 2s 2s/step:\n",
      "1/1 [==============================] - 2s 2s/step:\n",
      "1/1 [==============================] - 2s 2s/step:\n",
      "1/1 [==============================] - 2s 2s/step:\n",
      "1/1 [==============================] - 2s 2s/step:\n",
      "1/1 [==============================] - 2s 2s/step:\n",
      "1/1 [==============================] - 2s 2s/step:\n",
      "1/1 [==============================] - 0s 13ms/step\n",
      "1/1 [==============================] - 2s 2s/step:\n",
      "1/1 [==============================] - 2s 2s/step:\n",
      "1/1 [==============================] - 2s 2s/step:\n",
      "1/1 [==============================] - 2s 2s/step:\n",
      "1/1 [==============================] - 2s 2s/step:\n",
      "1/1 [==============================] - 0s 12ms/step\n",
      "1/1 [==============================] - 0s 11ms/step\n",
      "1/1 [==============================] - 2s 2s/step:\n",
      "1/1 [==============================] - 2s 2s/step:\n",
      "1/1 [==============================] - 2s 2s/step:\n",
      "1/1 [==============================] - 2s 2s/step:\n",
      "1/1 [==============================] - 0s 12ms/step\n",
      "1/1 [==============================] - 2s 2s/step:\n",
      "1/1 [==============================] - 2s 2s/step:\n",
      "1/1 [==============================] - 2s 2s/step:\n",
      "1/1 [==============================] - 0s 12ms/step\n",
      "1/1 [==============================] - 2s 2s/step:\n",
      "1/1 [==============================] - 0s 11ms/step\n",
      "1/1 [==============================] - 2s 2s/step:\n",
      "1/1 [==============================] - 2s 2s/step:\n",
      "1/1 [==============================] - 2s 2s/step:\n",
      "1/1 [==============================] - 2s 2s/step:\n",
      "1/1 [==============================] - 2s 2s/step:\n",
      "1/1 [==============================] - 2s 2s/step:\n",
      "1/1 [==============================] - 2s 2s/step:\n",
      "1/1 [==============================] - 2s 2s/step:\n",
      "1/1 [==============================] - 0s 12ms/step\n",
      "1/1 [==============================] - 2s 2s/step:\n",
      "1/1 [==============================] - 2s 2s/step:\n",
      "1/1 [==============================] - 2s 2s/step:\n",
      "1/1 [==============================] - 2s 2s/step:\n",
      "1/1 [==============================] - 2s 2s/step:\n",
      "1/1 [==============================] - 2s 2s/step:\n",
      "1/1 [==============================] - 2s 2s/step:\n",
      "1/1 [==============================] - 2s 2s/step:\n",
      "1/1 [==============================] - 2s 2s/step:\n",
      "1/1 [==============================] - 2s 2s/step:\n",
      "1/1 [==============================] - 2s 2s/step:\n",
      "1/1 [==============================] - 2s 2s/step:\n",
      "1/1 [==============================] - 2s 2s/step:\n",
      "1/1 [==============================] - 2s 2s/step:\n",
      "1/1 [==============================] - 0s 14ms/step\n",
      "1/1 [==============================] - 2s 2s/step:\n",
      "1/1 [==============================] - 2s 2s/step:\n",
      "1/1 [==============================] - 2s 2s/step:\n",
      "1/1 [==============================] - 2s 2s/step:\n",
      "1/1 [==============================] - 0s 12ms/step\n",
      "1/1 [==============================] - 2s 2s/step:\n",
      "1/1 [==============================] - 2s 2s/step:\n",
      "1/1 [==============================] - 2s 2s/step:\n",
      "1/1 [==============================] - 0s 13ms/step\n",
      "1/1 [==============================] - 2s 2s/step:\n",
      "1/1 [==============================] - 2s 2s/step:\n",
      "1/1 [==============================] - 2s 2s/step:\n",
      "1/1 [==============================] - 2s 2s/step:\n",
      "1/1 [==============================] - 2s 2s/step:\n",
      "1/1 [==============================] - 0s 13ms/step\n",
      "1/1 [==============================] - 2s 2s/step:\n",
      "1/1 [==============================] - 2s 2s/step:\n",
      "1/1 [==============================] - 2s 2s/step:\n",
      "1/1 [==============================] - 2s 2s/step:\n",
      "1/1 [==============================] - 2s 2s/step:\n",
      "1/1 [==============================] - 2s 2s/step:\n",
      "1/1 [==============================] - 2s 2s/step:\n",
      "1/1 [==============================] - 0s 11ms/step\n",
      "1/1 [==============================] - 2s 2s/step:\n",
      "1/1 [==============================] - 2s 2s/step:\n",
      "1/1 [==============================] - 2s 2s/step:\n",
      "1/1 [==============================] - 2s 2s/step:\n",
      "1/1 [==============================] - 2s 2s/step:\n",
      "1/1 [==============================] - 2s 2s/step:\n",
      "1/1 [==============================] - 2s 2s/step:\n",
      "1/1 [==============================] - 2s 2s/step:\n",
      "1/1 [==============================] - 2s 2s/step:\n",
      "1/1 [==============================] - 2s 2s/step:\n",
      "1/1 [==============================] - 2s 2s/step:\n",
      "1/1 [==============================] - 2s 2s/step:\n",
      "1/1 [==============================] - 2s 2s/step:\n",
      "1/1 [==============================] - 2s 2s/step:\n",
      "1/1 [==============================] - 2s 2s/step:\n",
      "1/1 [==============================] - 2s 2s/step:\n",
      "1/1 [==============================] - 2s 2s/step:\n",
      "1/1 [==============================] - 2s 2s/step:\n",
      "1/1 [==============================] - 2s 2s/step:\n",
      "1/1 [==============================] - 2s 2s/step:\n",
      "1/1 [==============================] - 2s 2s/step:\n",
      "1/1 [==============================] - 2s 2s/step:\n",
      "1/1 [==============================] - 2s 2s/step:\n",
      "1/1 [==============================] - 2s 2s/step:\n",
      "1/1 [==============================] - 2s 2s/step:\n",
      "1/1 [==============================] - 2s 2s/step:\n",
      "1/1 [==============================] - 2s 2s/step:\n",
      "1/1 [==============================] - 2s 2s/step:\n",
      "1/1 [==============================] - 0s 14ms/step\n",
      "1/1 [==============================] - 2s 2s/step:\n",
      "1/1 [==============================] - 2s 2s/step:10\n",
      "1/1 [==============================] - 0s 12ms/step\n",
      "1/1 [==============================] - 2s 2s/step:\n",
      "1/1 [==============================] - 2s 2s/step:\n",
      "1/1 [==============================] - 2s 2s/step:\n",
      "1/1 [==============================] - 2s 2s/step:\n",
      "1/1 [==============================] - 2s 2s/step:\n",
      "1/1 [==============================] - 2s 2s/step:\n",
      "1/1 [==============================] - 0s 14ms/step\n",
      "1/1 [==============================] - 2s 2s/step:\n",
      "1/1 [==============================] - 0s 13ms/step\n",
      "1/1 [==============================] - 2s 2s/step:\n",
      "1/1 [==============================] - 2s 2s/step:\n",
      "1/1 [==============================] - 2s 2s/step:\n",
      "1/1 [==============================] - 2s 2s/step:\n",
      "1/1 [==============================] - 2s 2s/step:\n",
      "1/1 [==============================] - 2s 2s/step:\n",
      "1/1 [==============================] - 2s 2s/step:\n",
      "1/1 [==============================] - 2s 2s/step:\n",
      "1/1 [==============================] - 2s 2s/step:\n",
      "1/1 [==============================] - 2s 2s/step:\n",
      "1/1 [==============================] - 2s 2s/step:\n",
      "1/1 [==============================] - 2s 2s/step:\n",
      "1/1 [==============================] - 0s 13ms/step\n",
      "1/1 [==============================] - 2s 2s/step:\n",
      "1/1 [==============================] - 2s 2s/step:\n",
      "1/1 [==============================] - 2s 2s/step:\n",
      "1/1 [==============================] - 2s 2s/step:\n",
      "187/259 [====================>.........] - ETA: 2:20"
     ]
    },
    {
     "ename": "KeyboardInterrupt",
     "evalue": "",
     "output_type": "error",
     "traceback": [
      "\u001b[0;31m---------------------------------------------------------------------------\u001b[0m",
      "\u001b[0;31mKeyboardInterrupt\u001b[0m                         Traceback (most recent call last)",
      "Cell \u001b[0;32mIn[244], line 1\u001b[0m\n\u001b[0;32m----> 1\u001b[0m \u001b[43mtrain\u001b[49m\u001b[43m(\u001b[49m\u001b[43mtrain_data\u001b[49m\u001b[43m,\u001b[49m\u001b[43m \u001b[49m\u001b[43mEPOCHS\u001b[49m\u001b[43m)\u001b[49m\n",
      "Cell \u001b[0;32mIn[242], line 16\u001b[0m, in \u001b[0;36mtrain\u001b[0;34m(data, EPOCHS)\u001b[0m\n\u001b[1;32m     12\u001b[0m \u001b[38;5;28;01mfor\u001b[39;00m idx, batch \u001b[38;5;129;01min\u001b[39;00m \u001b[38;5;28menumerate\u001b[39m(data):\n\u001b[1;32m     13\u001b[0m     \u001b[38;5;66;03m# Run train step here\u001b[39;00m\n\u001b[1;32m     14\u001b[0m     train_step(batch)\n\u001b[0;32m---> 16\u001b[0m     yhat \u001b[38;5;241m=\u001b[39m \u001b[43msiamese_model\u001b[49m\u001b[38;5;241;43m.\u001b[39;49m\u001b[43mpredict\u001b[49m\u001b[43m(\u001b[49m\u001b[43mbatch\u001b[49m\u001b[43m[\u001b[49m\u001b[43m:\u001b[49m\u001b[43m \u001b[49m\u001b[38;5;241;43m2\u001b[39;49m\u001b[43m]\u001b[49m\u001b[43m)\u001b[49m\n\u001b[1;32m     18\u001b[0m     r\u001b[38;5;241m.\u001b[39mupdate_state(batch[\u001b[38;5;241m2\u001b[39m], yhat) \n\u001b[1;32m     19\u001b[0m     p\u001b[38;5;241m.\u001b[39mupdate_state(batch[\u001b[38;5;241m2\u001b[39m], yhat)\n",
      "File \u001b[0;32m~/tensorflow/lib/python3.11/site-packages/keras/src/utils/traceback_utils.py:65\u001b[0m, in \u001b[0;36mfilter_traceback.<locals>.error_handler\u001b[0;34m(*args, **kwargs)\u001b[0m\n\u001b[1;32m     63\u001b[0m filtered_tb \u001b[38;5;241m=\u001b[39m \u001b[38;5;28;01mNone\u001b[39;00m\n\u001b[1;32m     64\u001b[0m \u001b[38;5;28;01mtry\u001b[39;00m:\n\u001b[0;32m---> 65\u001b[0m     \u001b[38;5;28;01mreturn\u001b[39;00m \u001b[43mfn\u001b[49m\u001b[43m(\u001b[49m\u001b[38;5;241;43m*\u001b[39;49m\u001b[43margs\u001b[49m\u001b[43m,\u001b[49m\u001b[43m \u001b[49m\u001b[38;5;241;43m*\u001b[39;49m\u001b[38;5;241;43m*\u001b[39;49m\u001b[43mkwargs\u001b[49m\u001b[43m)\u001b[49m\n\u001b[1;32m     66\u001b[0m \u001b[38;5;28;01mexcept\u001b[39;00m \u001b[38;5;167;01mException\u001b[39;00m \u001b[38;5;28;01mas\u001b[39;00m e:\n\u001b[1;32m     67\u001b[0m     filtered_tb \u001b[38;5;241m=\u001b[39m _process_traceback_frames(e\u001b[38;5;241m.\u001b[39m__traceback__)\n",
      "File \u001b[0;32m~/tensorflow/lib/python3.11/site-packages/keras/src/engine/training.py:2655\u001b[0m, in \u001b[0;36mModel.predict\u001b[0;34m(self, x, batch_size, verbose, steps, callbacks, max_queue_size, workers, use_multiprocessing)\u001b[0m\n\u001b[1;32m   2653\u001b[0m \u001b[38;5;28;01mfor\u001b[39;00m step \u001b[38;5;129;01min\u001b[39;00m data_handler\u001b[38;5;241m.\u001b[39msteps():\n\u001b[1;32m   2654\u001b[0m     callbacks\u001b[38;5;241m.\u001b[39mon_predict_batch_begin(step)\n\u001b[0;32m-> 2655\u001b[0m     tmp_batch_outputs \u001b[38;5;241m=\u001b[39m \u001b[38;5;28;43mself\u001b[39;49m\u001b[38;5;241;43m.\u001b[39;49m\u001b[43mpredict_function\u001b[49m\u001b[43m(\u001b[49m\u001b[43miterator\u001b[49m\u001b[43m)\u001b[49m\n\u001b[1;32m   2656\u001b[0m     \u001b[38;5;28;01mif\u001b[39;00m data_handler\u001b[38;5;241m.\u001b[39mshould_sync:\n\u001b[1;32m   2657\u001b[0m         context\u001b[38;5;241m.\u001b[39masync_wait()\n",
      "File \u001b[0;32m~/tensorflow/lib/python3.11/site-packages/tensorflow/python/util/traceback_utils.py:150\u001b[0m, in \u001b[0;36mfilter_traceback.<locals>.error_handler\u001b[0;34m(*args, **kwargs)\u001b[0m\n\u001b[1;32m    148\u001b[0m filtered_tb \u001b[38;5;241m=\u001b[39m \u001b[38;5;28;01mNone\u001b[39;00m\n\u001b[1;32m    149\u001b[0m \u001b[38;5;28;01mtry\u001b[39;00m:\n\u001b[0;32m--> 150\u001b[0m   \u001b[38;5;28;01mreturn\u001b[39;00m \u001b[43mfn\u001b[49m\u001b[43m(\u001b[49m\u001b[38;5;241;43m*\u001b[39;49m\u001b[43margs\u001b[49m\u001b[43m,\u001b[49m\u001b[43m \u001b[49m\u001b[38;5;241;43m*\u001b[39;49m\u001b[38;5;241;43m*\u001b[39;49m\u001b[43mkwargs\u001b[49m\u001b[43m)\u001b[49m\n\u001b[1;32m    151\u001b[0m \u001b[38;5;28;01mexcept\u001b[39;00m \u001b[38;5;167;01mException\u001b[39;00m \u001b[38;5;28;01mas\u001b[39;00m e:\n\u001b[1;32m    152\u001b[0m   filtered_tb \u001b[38;5;241m=\u001b[39m _process_traceback_frames(e\u001b[38;5;241m.\u001b[39m__traceback__)\n",
      "File \u001b[0;32m~/tensorflow/lib/python3.11/site-packages/tensorflow/python/eager/polymorphic_function/polymorphic_function.py:832\u001b[0m, in \u001b[0;36mFunction.__call__\u001b[0;34m(self, *args, **kwds)\u001b[0m\n\u001b[1;32m    829\u001b[0m compiler \u001b[38;5;241m=\u001b[39m \u001b[38;5;124m\"\u001b[39m\u001b[38;5;124mxla\u001b[39m\u001b[38;5;124m\"\u001b[39m \u001b[38;5;28;01mif\u001b[39;00m \u001b[38;5;28mself\u001b[39m\u001b[38;5;241m.\u001b[39m_jit_compile \u001b[38;5;28;01melse\u001b[39;00m \u001b[38;5;124m\"\u001b[39m\u001b[38;5;124mnonXla\u001b[39m\u001b[38;5;124m\"\u001b[39m\n\u001b[1;32m    831\u001b[0m \u001b[38;5;28;01mwith\u001b[39;00m OptionalXlaContext(\u001b[38;5;28mself\u001b[39m\u001b[38;5;241m.\u001b[39m_jit_compile):\n\u001b[0;32m--> 832\u001b[0m   result \u001b[38;5;241m=\u001b[39m \u001b[38;5;28;43mself\u001b[39;49m\u001b[38;5;241;43m.\u001b[39;49m\u001b[43m_call\u001b[49m\u001b[43m(\u001b[49m\u001b[38;5;241;43m*\u001b[39;49m\u001b[43margs\u001b[49m\u001b[43m,\u001b[49m\u001b[43m \u001b[49m\u001b[38;5;241;43m*\u001b[39;49m\u001b[38;5;241;43m*\u001b[39;49m\u001b[43mkwds\u001b[49m\u001b[43m)\u001b[49m\n\u001b[1;32m    834\u001b[0m new_tracing_count \u001b[38;5;241m=\u001b[39m \u001b[38;5;28mself\u001b[39m\u001b[38;5;241m.\u001b[39mexperimental_get_tracing_count()\n\u001b[1;32m    835\u001b[0m without_tracing \u001b[38;5;241m=\u001b[39m (tracing_count \u001b[38;5;241m==\u001b[39m new_tracing_count)\n",
      "File \u001b[0;32m~/tensorflow/lib/python3.11/site-packages/tensorflow/python/eager/polymorphic_function/polymorphic_function.py:877\u001b[0m, in \u001b[0;36mFunction._call\u001b[0;34m(self, *args, **kwds)\u001b[0m\n\u001b[1;32m    874\u001b[0m \u001b[38;5;28mself\u001b[39m\u001b[38;5;241m.\u001b[39m_lock\u001b[38;5;241m.\u001b[39mrelease()\n\u001b[1;32m    875\u001b[0m \u001b[38;5;66;03m# In this case we have not created variables on the first call. So we can\u001b[39;00m\n\u001b[1;32m    876\u001b[0m \u001b[38;5;66;03m# run the first trace but we should fail if variables are created.\u001b[39;00m\n\u001b[0;32m--> 877\u001b[0m results \u001b[38;5;241m=\u001b[39m \u001b[43mtracing_compilation\u001b[49m\u001b[38;5;241;43m.\u001b[39;49m\u001b[43mcall_function\u001b[49m\u001b[43m(\u001b[49m\n\u001b[1;32m    878\u001b[0m \u001b[43m    \u001b[49m\u001b[43margs\u001b[49m\u001b[43m,\u001b[49m\u001b[43m \u001b[49m\u001b[43mkwds\u001b[49m\u001b[43m,\u001b[49m\u001b[43m \u001b[49m\u001b[38;5;28;43mself\u001b[39;49m\u001b[38;5;241;43m.\u001b[39;49m\u001b[43m_variable_creation_config\u001b[49m\n\u001b[1;32m    879\u001b[0m \u001b[43m\u001b[49m\u001b[43m)\u001b[49m\n\u001b[1;32m    880\u001b[0m \u001b[38;5;28;01mif\u001b[39;00m \u001b[38;5;28mself\u001b[39m\u001b[38;5;241m.\u001b[39m_created_variables:\n\u001b[1;32m    881\u001b[0m   \u001b[38;5;28;01mraise\u001b[39;00m \u001b[38;5;167;01mValueError\u001b[39;00m(\u001b[38;5;124m\"\u001b[39m\u001b[38;5;124mCreating variables on a non-first call to a function\u001b[39m\u001b[38;5;124m\"\u001b[39m\n\u001b[1;32m    882\u001b[0m                    \u001b[38;5;124m\"\u001b[39m\u001b[38;5;124m decorated with tf.function.\u001b[39m\u001b[38;5;124m\"\u001b[39m)\n",
      "File \u001b[0;32m~/tensorflow/lib/python3.11/site-packages/tensorflow/python/eager/polymorphic_function/tracing_compilation.py:139\u001b[0m, in \u001b[0;36mcall_function\u001b[0;34m(args, kwargs, tracing_options)\u001b[0m\n\u001b[1;32m    137\u001b[0m bound_args \u001b[38;5;241m=\u001b[39m function\u001b[38;5;241m.\u001b[39mfunction_type\u001b[38;5;241m.\u001b[39mbind(\u001b[38;5;241m*\u001b[39margs, \u001b[38;5;241m*\u001b[39m\u001b[38;5;241m*\u001b[39mkwargs)\n\u001b[1;32m    138\u001b[0m flat_inputs \u001b[38;5;241m=\u001b[39m function\u001b[38;5;241m.\u001b[39mfunction_type\u001b[38;5;241m.\u001b[39munpack_inputs(bound_args)\n\u001b[0;32m--> 139\u001b[0m \u001b[38;5;28;01mreturn\u001b[39;00m \u001b[43mfunction\u001b[49m\u001b[38;5;241;43m.\u001b[39;49m\u001b[43m_call_flat\u001b[49m\u001b[43m(\u001b[49m\u001b[43m  \u001b[49m\u001b[38;5;66;43;03m# pylint: disable=protected-access\u001b[39;49;00m\n\u001b[1;32m    140\u001b[0m \u001b[43m    \u001b[49m\u001b[43mflat_inputs\u001b[49m\u001b[43m,\u001b[49m\u001b[43m \u001b[49m\u001b[43mcaptured_inputs\u001b[49m\u001b[38;5;241;43m=\u001b[39;49m\u001b[43mfunction\u001b[49m\u001b[38;5;241;43m.\u001b[39;49m\u001b[43mcaptured_inputs\u001b[49m\n\u001b[1;32m    141\u001b[0m \u001b[43m\u001b[49m\u001b[43m)\u001b[49m\n",
      "File \u001b[0;32m~/tensorflow/lib/python3.11/site-packages/tensorflow/python/eager/polymorphic_function/concrete_function.py:1323\u001b[0m, in \u001b[0;36mConcreteFunction._call_flat\u001b[0;34m(self, tensor_inputs, captured_inputs)\u001b[0m\n\u001b[1;32m   1319\u001b[0m possible_gradient_type \u001b[38;5;241m=\u001b[39m gradients_util\u001b[38;5;241m.\u001b[39mPossibleTapeGradientTypes(args)\n\u001b[1;32m   1320\u001b[0m \u001b[38;5;28;01mif\u001b[39;00m (possible_gradient_type \u001b[38;5;241m==\u001b[39m gradients_util\u001b[38;5;241m.\u001b[39mPOSSIBLE_GRADIENT_TYPES_NONE\n\u001b[1;32m   1321\u001b[0m     \u001b[38;5;129;01mand\u001b[39;00m executing_eagerly):\n\u001b[1;32m   1322\u001b[0m   \u001b[38;5;66;03m# No tape is watching; skip to running the function.\u001b[39;00m\n\u001b[0;32m-> 1323\u001b[0m   \u001b[38;5;28;01mreturn\u001b[39;00m \u001b[38;5;28;43mself\u001b[39;49m\u001b[38;5;241;43m.\u001b[39;49m\u001b[43m_inference_function\u001b[49m\u001b[38;5;241;43m.\u001b[39;49m\u001b[43mcall_preflattened\u001b[49m\u001b[43m(\u001b[49m\u001b[43margs\u001b[49m\u001b[43m)\u001b[49m\n\u001b[1;32m   1324\u001b[0m forward_backward \u001b[38;5;241m=\u001b[39m \u001b[38;5;28mself\u001b[39m\u001b[38;5;241m.\u001b[39m_select_forward_and_backward_functions(\n\u001b[1;32m   1325\u001b[0m     args,\n\u001b[1;32m   1326\u001b[0m     possible_gradient_type,\n\u001b[1;32m   1327\u001b[0m     executing_eagerly)\n\u001b[1;32m   1328\u001b[0m forward_function, args_with_tangents \u001b[38;5;241m=\u001b[39m forward_backward\u001b[38;5;241m.\u001b[39mforward()\n",
      "File \u001b[0;32m~/tensorflow/lib/python3.11/site-packages/tensorflow/python/eager/polymorphic_function/atomic_function.py:216\u001b[0m, in \u001b[0;36mAtomicFunction.call_preflattened\u001b[0;34m(self, args)\u001b[0m\n\u001b[1;32m    214\u001b[0m \u001b[38;5;28;01mdef\u001b[39;00m \u001b[38;5;21mcall_preflattened\u001b[39m(\u001b[38;5;28mself\u001b[39m, args: Sequence[core\u001b[38;5;241m.\u001b[39mTensor]) \u001b[38;5;241m-\u001b[39m\u001b[38;5;241m>\u001b[39m Any:\n\u001b[1;32m    215\u001b[0m \u001b[38;5;250m  \u001b[39m\u001b[38;5;124;03m\"\"\"Calls with flattened tensor inputs and returns the structured output.\"\"\"\u001b[39;00m\n\u001b[0;32m--> 216\u001b[0m   flat_outputs \u001b[38;5;241m=\u001b[39m \u001b[38;5;28;43mself\u001b[39;49m\u001b[38;5;241;43m.\u001b[39;49m\u001b[43mcall_flat\u001b[49m\u001b[43m(\u001b[49m\u001b[38;5;241;43m*\u001b[39;49m\u001b[43margs\u001b[49m\u001b[43m)\u001b[49m\n\u001b[1;32m    217\u001b[0m   \u001b[38;5;28;01mreturn\u001b[39;00m \u001b[38;5;28mself\u001b[39m\u001b[38;5;241m.\u001b[39mfunction_type\u001b[38;5;241m.\u001b[39mpack_output(flat_outputs)\n",
      "File \u001b[0;32m~/tensorflow/lib/python3.11/site-packages/tensorflow/python/eager/polymorphic_function/atomic_function.py:251\u001b[0m, in \u001b[0;36mAtomicFunction.call_flat\u001b[0;34m(self, *args)\u001b[0m\n\u001b[1;32m    249\u001b[0m \u001b[38;5;28;01mwith\u001b[39;00m record\u001b[38;5;241m.\u001b[39mstop_recording():\n\u001b[1;32m    250\u001b[0m   \u001b[38;5;28;01mif\u001b[39;00m \u001b[38;5;28mself\u001b[39m\u001b[38;5;241m.\u001b[39m_bound_context\u001b[38;5;241m.\u001b[39mexecuting_eagerly():\n\u001b[0;32m--> 251\u001b[0m     outputs \u001b[38;5;241m=\u001b[39m \u001b[38;5;28;43mself\u001b[39;49m\u001b[38;5;241;43m.\u001b[39;49m\u001b[43m_bound_context\u001b[49m\u001b[38;5;241;43m.\u001b[39;49m\u001b[43mcall_function\u001b[49m\u001b[43m(\u001b[49m\n\u001b[1;32m    252\u001b[0m \u001b[43m        \u001b[49m\u001b[38;5;28;43mself\u001b[39;49m\u001b[38;5;241;43m.\u001b[39;49m\u001b[43mname\u001b[49m\u001b[43m,\u001b[49m\n\u001b[1;32m    253\u001b[0m \u001b[43m        \u001b[49m\u001b[38;5;28;43mlist\u001b[39;49m\u001b[43m(\u001b[49m\u001b[43margs\u001b[49m\u001b[43m)\u001b[49m\u001b[43m,\u001b[49m\n\u001b[1;32m    254\u001b[0m \u001b[43m        \u001b[49m\u001b[38;5;28;43mlen\u001b[39;49m\u001b[43m(\u001b[49m\u001b[38;5;28;43mself\u001b[39;49m\u001b[38;5;241;43m.\u001b[39;49m\u001b[43mfunction_type\u001b[49m\u001b[38;5;241;43m.\u001b[39;49m\u001b[43mflat_outputs\u001b[49m\u001b[43m)\u001b[49m\u001b[43m,\u001b[49m\n\u001b[1;32m    255\u001b[0m \u001b[43m    \u001b[49m\u001b[43m)\u001b[49m\n\u001b[1;32m    256\u001b[0m   \u001b[38;5;28;01melse\u001b[39;00m:\n\u001b[1;32m    257\u001b[0m     outputs \u001b[38;5;241m=\u001b[39m make_call_op_in_graph(\n\u001b[1;32m    258\u001b[0m         \u001b[38;5;28mself\u001b[39m,\n\u001b[1;32m    259\u001b[0m         \u001b[38;5;28mlist\u001b[39m(args),\n\u001b[1;32m    260\u001b[0m         \u001b[38;5;28mself\u001b[39m\u001b[38;5;241m.\u001b[39m_bound_context\u001b[38;5;241m.\u001b[39mfunction_call_options\u001b[38;5;241m.\u001b[39mas_attrs(),\n\u001b[1;32m    261\u001b[0m     )\n",
      "File \u001b[0;32m~/tensorflow/lib/python3.11/site-packages/tensorflow/python/eager/context.py:1486\u001b[0m, in \u001b[0;36mContext.call_function\u001b[0;34m(self, name, tensor_inputs, num_outputs)\u001b[0m\n\u001b[1;32m   1484\u001b[0m cancellation_context \u001b[38;5;241m=\u001b[39m cancellation\u001b[38;5;241m.\u001b[39mcontext()\n\u001b[1;32m   1485\u001b[0m \u001b[38;5;28;01mif\u001b[39;00m cancellation_context \u001b[38;5;129;01mis\u001b[39;00m \u001b[38;5;28;01mNone\u001b[39;00m:\n\u001b[0;32m-> 1486\u001b[0m   outputs \u001b[38;5;241m=\u001b[39m \u001b[43mexecute\u001b[49m\u001b[38;5;241;43m.\u001b[39;49m\u001b[43mexecute\u001b[49m\u001b[43m(\u001b[49m\n\u001b[1;32m   1487\u001b[0m \u001b[43m      \u001b[49m\u001b[43mname\u001b[49m\u001b[38;5;241;43m.\u001b[39;49m\u001b[43mdecode\u001b[49m\u001b[43m(\u001b[49m\u001b[38;5;124;43m\"\u001b[39;49m\u001b[38;5;124;43mutf-8\u001b[39;49m\u001b[38;5;124;43m\"\u001b[39;49m\u001b[43m)\u001b[49m\u001b[43m,\u001b[49m\n\u001b[1;32m   1488\u001b[0m \u001b[43m      \u001b[49m\u001b[43mnum_outputs\u001b[49m\u001b[38;5;241;43m=\u001b[39;49m\u001b[43mnum_outputs\u001b[49m\u001b[43m,\u001b[49m\n\u001b[1;32m   1489\u001b[0m \u001b[43m      \u001b[49m\u001b[43minputs\u001b[49m\u001b[38;5;241;43m=\u001b[39;49m\u001b[43mtensor_inputs\u001b[49m\u001b[43m,\u001b[49m\n\u001b[1;32m   1490\u001b[0m \u001b[43m      \u001b[49m\u001b[43mattrs\u001b[49m\u001b[38;5;241;43m=\u001b[39;49m\u001b[43mattrs\u001b[49m\u001b[43m,\u001b[49m\n\u001b[1;32m   1491\u001b[0m \u001b[43m      \u001b[49m\u001b[43mctx\u001b[49m\u001b[38;5;241;43m=\u001b[39;49m\u001b[38;5;28;43mself\u001b[39;49m\u001b[43m,\u001b[49m\n\u001b[1;32m   1492\u001b[0m \u001b[43m  \u001b[49m\u001b[43m)\u001b[49m\n\u001b[1;32m   1493\u001b[0m \u001b[38;5;28;01melse\u001b[39;00m:\n\u001b[1;32m   1494\u001b[0m   outputs \u001b[38;5;241m=\u001b[39m execute\u001b[38;5;241m.\u001b[39mexecute_with_cancellation(\n\u001b[1;32m   1495\u001b[0m       name\u001b[38;5;241m.\u001b[39mdecode(\u001b[38;5;124m\"\u001b[39m\u001b[38;5;124mutf-8\u001b[39m\u001b[38;5;124m\"\u001b[39m),\n\u001b[1;32m   1496\u001b[0m       num_outputs\u001b[38;5;241m=\u001b[39mnum_outputs,\n\u001b[0;32m   (...)\u001b[0m\n\u001b[1;32m   1500\u001b[0m       cancellation_manager\u001b[38;5;241m=\u001b[39mcancellation_context,\n\u001b[1;32m   1501\u001b[0m   )\n",
      "File \u001b[0;32m~/tensorflow/lib/python3.11/site-packages/tensorflow/python/eager/execute.py:53\u001b[0m, in \u001b[0;36mquick_execute\u001b[0;34m(op_name, num_outputs, inputs, attrs, ctx, name)\u001b[0m\n\u001b[1;32m     51\u001b[0m \u001b[38;5;28;01mtry\u001b[39;00m:\n\u001b[1;32m     52\u001b[0m   ctx\u001b[38;5;241m.\u001b[39mensure_initialized()\n\u001b[0;32m---> 53\u001b[0m   tensors \u001b[38;5;241m=\u001b[39m \u001b[43mpywrap_tfe\u001b[49m\u001b[38;5;241;43m.\u001b[39;49m\u001b[43mTFE_Py_Execute\u001b[49m\u001b[43m(\u001b[49m\u001b[43mctx\u001b[49m\u001b[38;5;241;43m.\u001b[39;49m\u001b[43m_handle\u001b[49m\u001b[43m,\u001b[49m\u001b[43m \u001b[49m\u001b[43mdevice_name\u001b[49m\u001b[43m,\u001b[49m\u001b[43m \u001b[49m\u001b[43mop_name\u001b[49m\u001b[43m,\u001b[49m\n\u001b[1;32m     54\u001b[0m \u001b[43m                                      \u001b[49m\u001b[43minputs\u001b[49m\u001b[43m,\u001b[49m\u001b[43m \u001b[49m\u001b[43mattrs\u001b[49m\u001b[43m,\u001b[49m\u001b[43m \u001b[49m\u001b[43mnum_outputs\u001b[49m\u001b[43m)\u001b[49m\n\u001b[1;32m     55\u001b[0m \u001b[38;5;28;01mexcept\u001b[39;00m core\u001b[38;5;241m.\u001b[39m_NotOkStatusException \u001b[38;5;28;01mas\u001b[39;00m e:\n\u001b[1;32m     56\u001b[0m   \u001b[38;5;28;01mif\u001b[39;00m name \u001b[38;5;129;01mis\u001b[39;00m \u001b[38;5;129;01mnot\u001b[39;00m \u001b[38;5;28;01mNone\u001b[39;00m:\n",
      "\u001b[0;31mKeyboardInterrupt\u001b[0m: "
     ]
    }
   ],
   "source": [
    "train(train_data, EPOCHS)"
   ]
  },
  {
   "cell_type": "markdown",
   "id": "f3d3ddca",
   "metadata": {},
   "source": [
    "# Verification Data "
   ]
  },
  {
   "cell_type": "code",
   "execution_count": 44,
   "id": "b9d96ebc",
   "metadata": {},
   "outputs": [
    {
     "data": {
      "text/plain": [
       "-1"
      ]
     },
     "execution_count": 44,
     "metadata": {},
     "output_type": "execute_result"
    }
   ],
   "source": [
    "# Establish a connection to the webcam\n",
    "cap = cv2.VideoCapture(0)\n",
    "\n",
    "while cap.isOpened( ):\n",
    "    ret, frame = cap.read()\n",
    "    \n",
    "    # Cut down frame to 250×250px\n",
    "    frame = cv2.flip(cv2.resize(frame[140:140+600, 700:700+600, :], (250, 250)), 1)\n",
    "    \n",
    "    # Collect verification data\n",
    "    if cv2.waitKey(100) & 0xFF == ord('v'):\n",
    "        # Create the unique file path\n",
    "        imgname = os.path.join('app', 'application data', 'verification_images', '{}.jpg'.format(uuid.uuid1()))\n",
    "        # Write out anchor image\n",
    "        cv2.imwrite(imgname, frame)\n",
    "        \n",
    "    # Show image back to screen\n",
    "    cv2.imshow('Image Collection', frame)\n",
    "    \n",
    "    # Breaking gracefulLy\n",
    "    if cv2.waitKey(100) & 0xFF == ord('q'):\n",
    "        break\n",
    "        \n",
    "# Release the webcam\n",
    "cap.release()\n",
    "# Close the image show frame\n",
    "cv2.destroyAllWindows()\n",
    "cv2.waitKey(1)"
   ]
  },
  {
   "cell_type": "markdown",
   "id": "1a44ba2d",
   "metadata": {},
   "source": [
    "# Evaluate model"
   ]
  },
  {
   "cell_type": "code",
   "execution_count": 90,
   "id": "a96d3954",
   "metadata": {},
   "outputs": [],
   "source": [
    "# Import metric calculations\n",
    "from tensorflow.keras.metrics import Precision, Recall"
   ]
  },
  {
   "cell_type": "code",
   "execution_count": 91,
   "id": "5a22b6ff",
   "metadata": {},
   "outputs": [],
   "source": [
    "# Get a batch of test data\n",
    "test_input, test_val, y_true = test_data.as_numpy_iterator().next()"
   ]
  },
  {
   "cell_type": "code",
   "execution_count": 92,
   "id": "50944363",
   "metadata": {},
   "outputs": [
    {
     "data": {
      "text/plain": [
       "array([1., 1., 1., 1., 1., 0., 0., 1., 0., 1., 0., 1., 1., 0., 0., 0.],\n",
       "      dtype=float32)"
      ]
     },
     "execution_count": 92,
     "metadata": {},
     "output_type": "execute_result"
    }
   ],
   "source": [
    "y_true"
   ]
  },
  {
   "cell_type": "code",
   "execution_count": 93,
   "id": "960469ee",
   "metadata": {},
   "outputs": [
    {
     "name": "stdout",
     "output_type": "stream",
     "text": [
      "1/1 [==============================] - 0s 72ms/step\n"
     ]
    },
    {
     "data": {
      "text/plain": [
       "array([[0.5004071 ],\n",
       "       [0.5002447 ],\n",
       "       [0.50016177],\n",
       "       [0.4995925 ],\n",
       "       [0.49960014],\n",
       "       [0.50033015],\n",
       "       [0.50076586],\n",
       "       [0.50044453],\n",
       "       [0.5017777 ],\n",
       "       [0.5006536 ],\n",
       "       [0.5008272 ],\n",
       "       [0.5010692 ],\n",
       "       [0.5010938 ],\n",
       "       [0.50032437],\n",
       "       [0.50131434],\n",
       "       [0.5026835 ]], dtype=float32)"
      ]
     },
     "execution_count": 93,
     "metadata": {},
     "output_type": "execute_result"
    }
   ],
   "source": [
    "# Make predictions\n",
    "y_hat = siamese_model.predict([test_input, test_val])\n",
    "y_hat"
   ]
  },
  {
   "cell_type": "code",
   "execution_count": 94,
   "id": "d241d01c",
   "metadata": {},
   "outputs": [
    {
     "data": {
      "text/plain": [
       "[1, 1, 1, 0, 0, 1, 1, 1, 1, 1, 1, 1, 1, 1, 1, 1]"
      ]
     },
     "execution_count": 94,
     "metadata": {},
     "output_type": "execute_result"
    }
   ],
   "source": [
    "# Post processing the results\n",
    "[1 if prediction > 0.5 else 0 for prediction in y_hat ]"
   ]
  },
  {
   "cell_type": "code",
   "execution_count": 95,
   "id": "20ab2ff8",
   "metadata": {},
   "outputs": [
    {
     "data": {
      "text/plain": [
       "array([1., 1., 1., 1., 1., 0., 0., 1., 0., 1., 0., 1., 1., 0., 0., 0.],\n",
       "      dtype=float32)"
      ]
     },
     "execution_count": 95,
     "metadata": {},
     "output_type": "execute_result"
    }
   ],
   "source": [
    "y_true"
   ]
  },
  {
   "cell_type": "code",
   "execution_count": 58,
   "id": "bedb27ee",
   "metadata": {},
   "outputs": [
    {
     "data": {
      "text/plain": [
       "0.44444445"
      ]
     },
     "execution_count": 58,
     "metadata": {},
     "output_type": "execute_result"
    }
   ],
   "source": [
    "# Creating a metric object\n",
    "m = Precision()\n",
    "# Calculating the recall value\n",
    "m.update_state(y_true, y_hat)\n",
    "# Return Recall Result\n",
    "m.result().numpy()"
   ]
  },
  {
   "cell_type": "code",
   "execution_count": 59,
   "id": "9ba3279e",
   "metadata": {},
   "outputs": [
    {
     "data": {
      "image/png": "[encoded data removed]",
      "text/plain": [
       "<Figure size 1000x800 with 2 Axes>"
      ]
     },
     "metadata": {},
     "output_type": "display_data"
    }
   ],
   "source": [
    "# Set plot size\n",
    "plt.figure(figsize=(10,8))\n",
    "# Set first subplot\n",
    "plt.subplot(1,2,1)\n",
    "plt.imshow(test_input [3])\n",
    "plt.subplot(1,2,2)\n",
    "plt.imshow(test_val [3])\n",
    "plt.show()"
   ]
  },
  {
   "cell_type": "markdown",
   "id": "cb7ce8d7",
   "metadata": {},
   "source": [
    "# Save model"
   ]
  },
  {
   "cell_type": "code",
   "execution_count": 192,
   "id": "634bba91",
   "metadata": {},
   "outputs": [],
   "source": [
    "# Save weights\n",
    "siamese_model.save('siamesemodel.keras')"
   ]
  },
  {
   "cell_type": "code",
   "execution_count": 45,
   "id": "2c131f09",
   "metadata": {},
   "outputs": [],
   "source": [
    "# Reload model\n",
    "model = tf.keras.models.load_model('siamesemodel.keras', custom_objects={'L1Dist': L1Dist,'BinaryCrossentropy':tf.losses.BinaryCrossentropy})"
   ]
  },
  {
   "cell_type": "code",
   "execution_count": 60,
   "id": "99fac859",
   "metadata": {},
   "outputs": [
    {
     "name": "stdout",
     "output_type": "stream",
     "text": [
      "1/1 [==============================] - 0s 67ms/step\n"
     ]
    },
    {
     "data": {
      "text/plain": [
       "array([[1.0000000e+00],\n",
       "       [9.8954684e-01],\n",
       "       [3.9926911e-09],\n",
       "       [9.7633207e-01],\n",
       "       [5.0485484e-11],\n",
       "       [3.2094306e-01],\n",
       "       [1.0000000e+00],\n",
       "       [9.7676176e-01],\n",
       "       [1.0992136e-02],\n",
       "       [1.3453713e-07],\n",
       "       [4.8144222e-05],\n",
       "       [2.7842888e-01],\n",
       "       [1.0000000e+00],\n",
       "       [1.4033277e-07],\n",
       "       [8.3825845e-01],\n",
       "       [4.5049757e-02]], dtype=float32)"
      ]
     },
     "execution_count": 60,
     "metadata": {},
     "output_type": "execute_result"
    }
   ],
   "source": [
    "model.predict([test_input, test_val])"
   ]
  },
  {
   "cell_type": "code",
   "execution_count": 196,
   "id": "57a62bb9",
   "metadata": {},
   "outputs": [
    {
     "name": "stdout",
     "output_type": "stream",
     "text": [
      "Model: \"SiameseNetwork\"\n",
      "__________________________________________________________________________________________________\n",
      " Layer (type)                Output Shape                 Param #   Connected to                  \n",
      "==================================================================================================\n",
      " input_img (InputLayer)      [(None, 100, 100, 3)]        0         []                            \n",
      "                                                                                                  \n",
      " validation_img (InputLayer  [(None, 100, 100, 3)]        0         []                            \n",
      " )                                                                                                \n",
      "                                                                                                  \n",
      " embedding (Functional)      (None, 4096)                 3896044   ['input_img[0][0]',           \n",
      "                                                          8          'validation_img[0][0]']      \n",
      "                                                                                                  \n",
      " l1_dist_6 (L1Dist)          (None, 4096)                 0         ['embedding[0][0]',           \n",
      "                                                                     'embedding[1][0]']           \n",
      "                                                                                                  \n",
      " dense_6 (Dense)             (None, 1)                    4097      ['l1_dist_6[0][0]']           \n",
      "                                                                                                  \n",
      "==================================================================================================\n",
      "Total params: 38964545 (148.64 MB)\n",
      "Trainable params: 38964545 (148.64 MB)\n",
      "Non-trainable params: 0 (0.00 Byte)\n",
      "__________________________________________________________________________________________________\n"
     ]
    }
   ],
   "source": [
    "model.summary()"
   ]
  },
  {
   "cell_type": "markdown",
   "id": "d7675339",
   "metadata": {},
   "source": [
    "# Real Time Test"
   ]
  },
  {
   "cell_type": "markdown",
   "id": "c4046089",
   "metadata": {},
   "source": [
    "## Verification function"
   ]
  },
  {
   "cell_type": "code",
   "execution_count": 104,
   "id": "24f3d588",
   "metadata": {},
   "outputs": [],
   "source": [
    "def verify(model, detection_threshold, verification_threshold):\n",
    "    # Build results array\n",
    "    results = []\n",
    "    \n",
    "    for image in os.listdir(os.path.join('application data','verification_images')):\n",
    "        if image.endswith(\".jpg\"):\n",
    "            validation_img = preprocess(os.path.join('application data','verification_images', image))\n",
    "            input_img = preprocess(os.path.join('application data', 'input_image', 'input_image.jpg'))\n",
    "        \n",
    "            # Make Predictions\n",
    "            result = model.predict(list(np.expand_dims([input_img, validation_img], axis=1)), verbose=0)\n",
    "            results.append(result)\n",
    "        \n",
    "    # Detection Threshold: Metric above which a prediciton is considered positive\n",
    "    detection = np.sum(np.array(results) > detection_threshold)\n",
    "    \n",
    "    # Verification Threshold: Proportion of positive predictions / total positive samples\n",
    "    verification = detection / len(os.listdir(os.path.join('application data', 'verification_images')))\n",
    "    verified = verification > verification_threshold\n",
    "    \n",
    "    return results, verified"
   ]
  },
  {
   "cell_type": "code",
   "execution_count": 102,
   "id": "2f6c756b",
   "metadata": {},
   "outputs": [
    {
     "name": "stdout",
     "output_type": "stream",
     "text": [
      "af863892-8ddb-11ee-a19f-1e592a5e1493.jpg\n",
      "92dff3ea-89c6-11ee-a00c-1e592a5e1493.jpg\n",
      "009ea7d8-89c6-11ee-a00c-1e592a5e1493.jpg\n",
      "fd68de4e-8ad8-11ee-8b6c-1e592a5e1493.jpg\n",
      "ade3cc84-8ad9-11ee-8b6c-1e592a5e1493.jpg\n",
      "acea0a64-8ddb-11ee-a19f-1e592a5e1493.jpg\n",
      "af2458ca-8ad9-11ee-8b6c-1e592a5e1493.jpg\n",
      "adfafb66-8ddb-11ee-a19f-1e592a5e1493.jpg\n",
      "9dd3ecf2-8ad9-11ee-8b6c-1e592a5e1493.jpg\n",
      "1ca21ede-89c5-11ee-a00c-1e592a5e1493.jpg\n",
      "848aaff6-8ddb-11ee-a19f-1e592a5e1493.jpg\n",
      "03207bda-89c6-11ee-a00c-1e592a5e1493.jpg\n",
      "2c1e3fbe-89c5-11ee-a00c-1e592a5e1493.jpg\n",
      "aec4a948-8ddb-11ee-a19f-1e592a5e1493.jpg\n",
      "862f79a4-8ddb-11ee-a19f-1e592a5e1493.jpg\n",
      "006dff98-89c6-11ee-a00c-1e592a5e1493.jpg\n",
      "acc6de4a-8ad9-11ee-8b6c-1e592a5e1493.jpg\n",
      "01c735a8-89c6-11ee-a00c-1e592a5e1493.jpg\n",
      "a0ef6d80-8ddb-11ee-a19f-1e592a5e1493.jpg\n",
      "9950c650-8ad9-11ee-8b6c-1e592a5e1493.jpg\n",
      "987fd932-8ddb-11ee-a19f-1e592a5e1493.jpg\n",
      "9b2ee498-8ddb-11ee-a19f-1e592a5e1493.jpg\n",
      "1c9722b2-8ad9-11ee-8b6c-1e592a5e1493.jpg\n",
      "011abb16-89c6-11ee-a00c-1e592a5e1493.jpg\n",
      "a4278ca8-8ddb-11ee-a19f-1e592a5e1493.jpg\n",
      "893336ea-8ddb-11ee-a19f-1e592a5e1493.jpg\n",
      "a3be8000-8ddb-11ee-a19f-1e592a5e1493.jpg\n",
      "95bd445a-89c6-11ee-a00c-1e592a5e1493.jpg\n",
      "8723c6da-8ddb-11ee-a19f-1e592a5e1493.jpg\n",
      "0a52b918-8ad9-11ee-8b6c-1e592a5e1493.jpg\n",
      "a2318da4-8ddb-11ee-a19f-1e592a5e1493.jpg\n",
      "27404262-89c5-11ee-a00c-1e592a5e1493.jpg\n",
      "8c90e1ca-8ddb-11ee-a19f-1e592a5e1493.jpg\n",
      "227d9504-89c5-11ee-a00c-1e592a5e1493.jpg\n",
      "9597e07a-89c6-11ee-a00c-1e592a5e1493.jpg\n",
      "877dc9b4-8ddb-11ee-a19f-1e592a5e1493.jpg\n",
      "9e673d7c-8ddb-11ee-a19f-1e592a5e1493.jpg\n",
      "1f6a02c6-89c5-11ee-a00c-1e592a5e1493.jpg\n",
      "89c01754-8ddb-11ee-a19f-1e592a5e1493.jpg\n",
      "2512a750-89c5-11ee-a00c-1e592a5e1493.jpg\n",
      "8a8a0532-8ddb-11ee-a19f-1e592a5e1493.jpg\n",
      "801a5d68-8ddb-11ee-a19f-1e592a5e1493.jpg\n",
      "92af86ce-89c6-11ee-a00c-1e592a5e1493.jpg\n",
      "a94894fc-8ddb-11ee-a19f-1e592a5e1493.jpg\n",
      "2848a2f8-89c5-11ee-a00c-1e592a5e1493.jpg\n",
      "ab8b3fda-8ad9-11ee-8b6c-1e592a5e1493.jpg\n",
      "9f771aac-8ddb-11ee-a19f-1e592a5e1493.jpg\n",
      "91ba88d6-8ddb-11ee-a19f-1e592a5e1493.jpg\n",
      "94493052-8ddb-11ee-a19f-1e592a5e1493.jpg\n",
      "943e7ed2-89c6-11ee-a00c-1e592a5e1493.jpg\n",
      "7baefd74-8ddb-11ee-a19f-1e592a5e1493.jpg\n",
      "92ebf762-8ddb-11ee-a19f-1e592a5e1493.jpg\n",
      "99506944-8ddb-11ee-a19f-1e592a5e1493.jpg\n",
      "00023b3c-89c6-11ee-a00c-1e592a5e1493.jpg\n",
      "22fdeadc-8ad9-11ee-8b6c-1e592a5e1493.jpg\n",
      "1df07736-89c5-11ee-a00c-1e592a5e1493.jpg\n",
      "1af7e3c0-89c5-11ee-a00c-1e592a5e1493.jpg\n",
      "97b331ac-89c6-11ee-a00c-1e592a5e1493.jpg\n",
      "abdaaa3e-8ddb-11ee-a19f-1e592a5e1493.jpg\n",
      "cde973f8-8ddb-11ee-a19f-1e592a5e1493.jpg\n"
     ]
    }
   ],
   "source": [
    "for image in os.listdir(os.path.join('application data','verification_images')):\n",
    "    if image.endswith(\".jpg\"):\n",
    "        print(image)"
   ]
  },
  {
   "cell_type": "markdown",
   "id": "c1eb256e",
   "metadata": {},
   "source": [
    "## OpenCV Real Time Verification"
   ]
  },
  {
   "cell_type": "code",
   "execution_count": 97,
   "id": "71405f64",
   "metadata": {},
   "outputs": [
    {
     "data": {
      "text/plain": [
       "'app/application_data/input_image/input_image.jpg'"
      ]
     },
     "execution_count": 97,
     "metadata": {},
     "output_type": "execute_result"
    }
   ],
   "source": [
    "os.path.join('application_data', 'input_image', 'input_image.jpg')"
   ]
  },
  {
   "cell_type": "code",
   "execution_count": 105,
   "id": "0502668f",
   "metadata": {},
   "outputs": [
    {
     "name": "stdout",
     "output_type": "stream",
     "text": [
      "True\n",
      "True\n",
      "True\n",
      "True\n"
     ]
    },
    {
     "data": {
      "text/plain": [
       "-1"
      ]
     },
     "execution_count": 105,
     "metadata": {},
     "output_type": "execute_result"
    }
   ],
   "source": [
    "# Establish a connection to the webcam\n",
    "cap = cv2.VideoCapture(0)\n",
    "\n",
    "while cap.isOpened( ):\n",
    "    ret, frame = cap.read()\n",
    "    \n",
    "    # Cut down frame to 250×250px\n",
    "    frame = cv2.resize(frame[140:140+600, 700:700+600, :], (250, 250))\n",
    "    \n",
    "    # Collect anchors\n",
    "    if cv2.waitKey(100) & 0xFF == ord('v'):\n",
    "        # Save input image to application data/input image folder\n",
    "        cv2.imwrite(os.path.join('application data', 'input_image', 'input_image.jpg'), frame)\n",
    "        \n",
    "        # Run verification\n",
    "        results, verified = verify(model, 0.55, 0.5)\n",
    "        print(verified)\n",
    "        \n",
    "    \n",
    "    # Show image back to screen\n",
    "    cv2.imshow('Image Collection', frame)\n",
    "    \n",
    "    # Breaking gracefulLy\n",
    "    if cv2.waitKey(100) & 0xFF == ord('q'):\n",
    "        break\n",
    "\n",
    "        \n",
    "# Release the webcam\n",
    "cap.release()\n",
    "# Close the image show frame\n",
    "cv2.destroyAllWindows()\n",
    "cv2.waitKey(1) "
   ]
  },
  {
   "cell_type": "code",
   "execution_count": 62,
   "id": "678a30f4",
   "metadata": {},
   "outputs": [
    {
     "name": "stdout",
     "output_type": "stream",
     "text": [
      "Model: \"SiameseNetwork\"\n",
      "__________________________________________________________________________________________________\n",
      " Layer (type)                Output Shape                 Param #   Connected to                  \n",
      "==================================================================================================\n",
      " input_img (InputLayer)      [(None, 100, 100, 3)]        0         []                            \n",
      "                                                                                                  \n",
      " validation_img (InputLayer  [(None, 100, 100, 3)]        0         []                            \n",
      " )                                                                                                \n",
      "                                                                                                  \n",
      " embedding (Functional)      (None, 4096)                 3896044   ['input_img[0][0]',           \n",
      "                                                          8          'validation_img[0][0]']      \n",
      "                                                                                                  \n",
      " l1_dist_3 (L1Dist)          (None, 4096)                 0         ['embedding[0][0]',           \n",
      "                                                                     'embedding[1][0]']           \n",
      "                                                                                                  \n",
      " dense_6 (Dense)             (None, 1)                    4097      ['l1_dist_3[0][0]']           \n",
      "                                                                                                  \n",
      "==================================================================================================\n",
      "Total params: 38964545 (148.64 MB)\n",
      "Trainable params: 38964545 (148.64 MB)\n",
      "Non-trainable params: 0 (0.00 Byte)\n",
      "__________________________________________________________________________________________________\n"
     ]
    }
   ],
   "source": [
    "model.summary()"
   ]
  },
  {
   "cell_type": "code",
   "execution_count": null,
   "id": "dccf7920",
   "metadata": {},
   "outputs": [],
   "source": []
  }
 ],
 "metadata": {
  "kernelspec": {
   "display_name": "tensor",
   "language": "python",
   "name": "tensorflow"
  },
  "language_info": {
   "codemirror_mode": {
    "name": "ipython",
    "version": 3
   },
   "file_extension": ".py",
   "mimetype": "text/x-python",
   "name": "python",
   "nbconvert_exporter": "python",
   "pygments_lexer": "ipython3",
   "version": "3.11.5"
  },
  "toc": {
   "base_numbering": 1,
   "nav_menu": {},
   "number_sections": true,
   "sideBar": true,
   "skip_h1_title": false,
   "title_cell": "Table of Contents",
   "title_sidebar": "Contents",
   "toc_cell": false,
   "toc_position": {
    "height": "calc(100% - 180px)",
    "left": "10px",
    "top": "150px",
    "width": "165px"
   },
   "toc_section_display": true,
   "toc_window_display": true
  }
 },
 "nbformat": 4,
 "nbformat_minor": 5
}
